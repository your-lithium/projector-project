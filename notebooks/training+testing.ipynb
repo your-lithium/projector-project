{
  "nbformat": 4,
  "nbformat_minor": 0,
  "metadata": {
    "colab": {
      "provenance": [],
      "authorship_tag": "ABX9TyPqNpju/CJ0mZNTywMB0SJx",
      "include_colab_link": true
    },
    "kernelspec": {
      "name": "python3",
      "display_name": "Python 3"
    },
    "language_info": {
      "name": "python"
    }
  },
  "cells": [
    {
      "cell_type": "markdown",
      "metadata": {
        "id": "view-in-github",
        "colab_type": "text"
      },
      "source": [
        "<a href=\"https://colab.research.google.com/github/your-lithium/projector-project/blob/main/notebooks/training%2Btesting.ipynb\" target=\"_parent\"><img src=\"https://colab.research.google.com/assets/colab-badge.svg\" alt=\"Open In Colab\"/></a>"
      ]
    },
    {
      "cell_type": "markdown",
      "source": [
        "# choosing the model (experimentation)"
      ],
      "metadata": {
        "id": "E0dmhqXJAf8A"
      }
    },
    {
      "cell_type": "code",
      "source": [
        "data = pd.read_csv('/content/data.csv', index_col=0)"
      ],
      "metadata": {
        "id": "X6w9F_3TdN2d"
      },
      "execution_count": null,
      "outputs": []
    },
    {
      "cell_type": "code",
      "source": [
        "data.head()"
      ],
      "metadata": {
        "colab": {
          "base_uri": "https://localhost:8080/",
          "height": 226
        },
        "id": "liRtsVYvdZZB",
        "outputId": "90868aa5-9c51-472f-b0e4-88b7e7312199"
      },
      "execution_count": null,
      "outputs": [
        {
          "output_type": "execute_result",
          "data": {
            "text/plain": [
              "   price   mark   model  year  equipment  mileage  place  gearbox  \\\n",
              "0  13400  420.0   799.0  2016       59.0    50000  326.0      1.0   \n",
              "1  22000   50.0  3308.0  2013        NaN   181000  229.0      1.0   \n",
              "2  16500  263.0  3498.0  2012       59.0    19000  326.0      1.0   \n",
              "3  33999   50.0  3308.0  2014      295.0   250000  326.0      1.0   \n",
              "4  33500   50.0   257.0  2019       59.0   142000  326.0      1.0   \n",
              "\n",
              "   description  number   vin  vin_checked  accident  lease_available  \\\n",
              "0         True    True  True         True     False            False   \n",
              "1         True    True  True         True     False            False   \n",
              "2         True    True  True         True     False            False   \n",
              "3         True    True  True         True      True            False   \n",
              "4         True    True  True         True     False            False   \n",
              "\n",
              "   seller_is_auto_ria  loan_years  loan_rate    mean_price  engine_power  \\\n",
              "0               False         NaN        NaN   7864.613045         115.0   \n",
              "1               False         NaN        NaN  25987.084027           NaN   \n",
              "2               False         NaN        NaN  14491.356242         166.0   \n",
              "3               False         NaN        NaN  25987.084027         381.0   \n",
              "4               False         NaN        NaN  25987.084027         190.0   \n",
              "\n",
              "     tdi     ev  kwh    awd  \n",
              "0  False  False  NaN  False  \n",
              "1  False  False  NaN  False  \n",
              "2  False  False  NaN  False  \n",
              "3  False  False  NaN   True  \n",
              "4  False  False  NaN   True  "
            ],
            "text/html": [
              "\n",
              "  <div id=\"df-82886746-4fd4-4489-ba75-68a049a1c2b7\" class=\"colab-df-container\">\n",
              "    <div>\n",
              "<style scoped>\n",
              "    .dataframe tbody tr th:only-of-type {\n",
              "        vertical-align: middle;\n",
              "    }\n",
              "\n",
              "    .dataframe tbody tr th {\n",
              "        vertical-align: top;\n",
              "    }\n",
              "\n",
              "    .dataframe thead th {\n",
              "        text-align: right;\n",
              "    }\n",
              "</style>\n",
              "<table border=\"1\" class=\"dataframe\">\n",
              "  <thead>\n",
              "    <tr style=\"text-align: right;\">\n",
              "      <th></th>\n",
              "      <th>price</th>\n",
              "      <th>mark</th>\n",
              "      <th>model</th>\n",
              "      <th>year</th>\n",
              "      <th>equipment</th>\n",
              "      <th>mileage</th>\n",
              "      <th>place</th>\n",
              "      <th>gearbox</th>\n",
              "      <th>description</th>\n",
              "      <th>number</th>\n",
              "      <th>vin</th>\n",
              "      <th>vin_checked</th>\n",
              "      <th>accident</th>\n",
              "      <th>lease_available</th>\n",
              "      <th>seller_is_auto_ria</th>\n",
              "      <th>loan_years</th>\n",
              "      <th>loan_rate</th>\n",
              "      <th>mean_price</th>\n",
              "      <th>engine_power</th>\n",
              "      <th>tdi</th>\n",
              "      <th>ev</th>\n",
              "      <th>kwh</th>\n",
              "      <th>awd</th>\n",
              "    </tr>\n",
              "  </thead>\n",
              "  <tbody>\n",
              "    <tr>\n",
              "      <th>0</th>\n",
              "      <td>13400</td>\n",
              "      <td>420.0</td>\n",
              "      <td>799.0</td>\n",
              "      <td>2016</td>\n",
              "      <td>59.0</td>\n",
              "      <td>50000</td>\n",
              "      <td>326.0</td>\n",
              "      <td>1.0</td>\n",
              "      <td>True</td>\n",
              "      <td>True</td>\n",
              "      <td>True</td>\n",
              "      <td>True</td>\n",
              "      <td>False</td>\n",
              "      <td>False</td>\n",
              "      <td>False</td>\n",
              "      <td>NaN</td>\n",
              "      <td>NaN</td>\n",
              "      <td>7864.613045</td>\n",
              "      <td>115.0</td>\n",
              "      <td>False</td>\n",
              "      <td>False</td>\n",
              "      <td>NaN</td>\n",
              "      <td>False</td>\n",
              "    </tr>\n",
              "    <tr>\n",
              "      <th>1</th>\n",
              "      <td>22000</td>\n",
              "      <td>50.0</td>\n",
              "      <td>3308.0</td>\n",
              "      <td>2013</td>\n",
              "      <td>NaN</td>\n",
              "      <td>181000</td>\n",
              "      <td>229.0</td>\n",
              "      <td>1.0</td>\n",
              "      <td>True</td>\n",
              "      <td>True</td>\n",
              "      <td>True</td>\n",
              "      <td>True</td>\n",
              "      <td>False</td>\n",
              "      <td>False</td>\n",
              "      <td>False</td>\n",
              "      <td>NaN</td>\n",
              "      <td>NaN</td>\n",
              "      <td>25987.084027</td>\n",
              "      <td>NaN</td>\n",
              "      <td>False</td>\n",
              "      <td>False</td>\n",
              "      <td>NaN</td>\n",
              "      <td>False</td>\n",
              "    </tr>\n",
              "    <tr>\n",
              "      <th>2</th>\n",
              "      <td>16500</td>\n",
              "      <td>263.0</td>\n",
              "      <td>3498.0</td>\n",
              "      <td>2012</td>\n",
              "      <td>59.0</td>\n",
              "      <td>19000</td>\n",
              "      <td>326.0</td>\n",
              "      <td>1.0</td>\n",
              "      <td>True</td>\n",
              "      <td>True</td>\n",
              "      <td>True</td>\n",
              "      <td>True</td>\n",
              "      <td>False</td>\n",
              "      <td>False</td>\n",
              "      <td>False</td>\n",
              "      <td>NaN</td>\n",
              "      <td>NaN</td>\n",
              "      <td>14491.356242</td>\n",
              "      <td>166.0</td>\n",
              "      <td>False</td>\n",
              "      <td>False</td>\n",
              "      <td>NaN</td>\n",
              "      <td>False</td>\n",
              "    </tr>\n",
              "    <tr>\n",
              "      <th>3</th>\n",
              "      <td>33999</td>\n",
              "      <td>50.0</td>\n",
              "      <td>3308.0</td>\n",
              "      <td>2014</td>\n",
              "      <td>295.0</td>\n",
              "      <td>250000</td>\n",
              "      <td>326.0</td>\n",
              "      <td>1.0</td>\n",
              "      <td>True</td>\n",
              "      <td>True</td>\n",
              "      <td>True</td>\n",
              "      <td>True</td>\n",
              "      <td>True</td>\n",
              "      <td>False</td>\n",
              "      <td>False</td>\n",
              "      <td>NaN</td>\n",
              "      <td>NaN</td>\n",
              "      <td>25987.084027</td>\n",
              "      <td>381.0</td>\n",
              "      <td>False</td>\n",
              "      <td>False</td>\n",
              "      <td>NaN</td>\n",
              "      <td>True</td>\n",
              "    </tr>\n",
              "    <tr>\n",
              "      <th>4</th>\n",
              "      <td>33500</td>\n",
              "      <td>50.0</td>\n",
              "      <td>257.0</td>\n",
              "      <td>2019</td>\n",
              "      <td>59.0</td>\n",
              "      <td>142000</td>\n",
              "      <td>326.0</td>\n",
              "      <td>1.0</td>\n",
              "      <td>True</td>\n",
              "      <td>True</td>\n",
              "      <td>True</td>\n",
              "      <td>True</td>\n",
              "      <td>False</td>\n",
              "      <td>False</td>\n",
              "      <td>False</td>\n",
              "      <td>NaN</td>\n",
              "      <td>NaN</td>\n",
              "      <td>25987.084027</td>\n",
              "      <td>190.0</td>\n",
              "      <td>False</td>\n",
              "      <td>False</td>\n",
              "      <td>NaN</td>\n",
              "      <td>True</td>\n",
              "    </tr>\n",
              "  </tbody>\n",
              "</table>\n",
              "</div>\n",
              "    <div class=\"colab-df-buttons\">\n",
              "\n",
              "  <div class=\"colab-df-container\">\n",
              "    <button class=\"colab-df-convert\" onclick=\"convertToInteractive('df-82886746-4fd4-4489-ba75-68a049a1c2b7')\"\n",
              "            title=\"Convert this dataframe to an interactive table.\"\n",
              "            style=\"display:none;\">\n",
              "\n",
              "  <svg xmlns=\"http://www.w3.org/2000/svg\" height=\"24px\" viewBox=\"0 -960 960 960\">\n",
              "    <path d=\"M120-120v-720h720v720H120Zm60-500h600v-160H180v160Zm220 220h160v-160H400v160Zm0 220h160v-160H400v160ZM180-400h160v-160H180v160Zm440 0h160v-160H620v160ZM180-180h160v-160H180v160Zm440 0h160v-160H620v160Z\"/>\n",
              "  </svg>\n",
              "    </button>\n",
              "\n",
              "  <style>\n",
              "    .colab-df-container {\n",
              "      display:flex;\n",
              "      gap: 12px;\n",
              "    }\n",
              "\n",
              "    .colab-df-convert {\n",
              "      background-color: #E8F0FE;\n",
              "      border: none;\n",
              "      border-radius: 50%;\n",
              "      cursor: pointer;\n",
              "      display: none;\n",
              "      fill: #1967D2;\n",
              "      height: 32px;\n",
              "      padding: 0 0 0 0;\n",
              "      width: 32px;\n",
              "    }\n",
              "\n",
              "    .colab-df-convert:hover {\n",
              "      background-color: #E2EBFA;\n",
              "      box-shadow: 0px 1px 2px rgba(60, 64, 67, 0.3), 0px 1px 3px 1px rgba(60, 64, 67, 0.15);\n",
              "      fill: #174EA6;\n",
              "    }\n",
              "\n",
              "    .colab-df-buttons div {\n",
              "      margin-bottom: 4px;\n",
              "    }\n",
              "\n",
              "    [theme=dark] .colab-df-convert {\n",
              "      background-color: #3B4455;\n",
              "      fill: #D2E3FC;\n",
              "    }\n",
              "\n",
              "    [theme=dark] .colab-df-convert:hover {\n",
              "      background-color: #434B5C;\n",
              "      box-shadow: 0px 1px 3px 1px rgba(0, 0, 0, 0.15);\n",
              "      filter: drop-shadow(0px 1px 2px rgba(0, 0, 0, 0.3));\n",
              "      fill: #FFFFFF;\n",
              "    }\n",
              "  </style>\n",
              "\n",
              "    <script>\n",
              "      const buttonEl =\n",
              "        document.querySelector('#df-82886746-4fd4-4489-ba75-68a049a1c2b7 button.colab-df-convert');\n",
              "      buttonEl.style.display =\n",
              "        google.colab.kernel.accessAllowed ? 'block' : 'none';\n",
              "\n",
              "      async function convertToInteractive(key) {\n",
              "        const element = document.querySelector('#df-82886746-4fd4-4489-ba75-68a049a1c2b7');\n",
              "        const dataTable =\n",
              "          await google.colab.kernel.invokeFunction('convertToInteractive',\n",
              "                                                    [key], {});\n",
              "        if (!dataTable) return;\n",
              "\n",
              "        const docLinkHtml = 'Like what you see? Visit the ' +\n",
              "          '<a target=\"_blank\" href=https://colab.research.google.com/notebooks/data_table.ipynb>data table notebook</a>'\n",
              "          + ' to learn more about interactive tables.';\n",
              "        element.innerHTML = '';\n",
              "        dataTable['output_type'] = 'display_data';\n",
              "        await google.colab.output.renderOutput(dataTable, element);\n",
              "        const docLink = document.createElement('div');\n",
              "        docLink.innerHTML = docLinkHtml;\n",
              "        element.appendChild(docLink);\n",
              "      }\n",
              "    </script>\n",
              "  </div>\n",
              "\n",
              "\n",
              "<div id=\"df-28262f85-1cd8-4aab-82f3-7ff347cddf23\">\n",
              "  <button class=\"colab-df-quickchart\" onclick=\"quickchart('df-28262f85-1cd8-4aab-82f3-7ff347cddf23')\"\n",
              "            title=\"Suggest charts\"\n",
              "            style=\"display:none;\">\n",
              "\n",
              "<svg xmlns=\"http://www.w3.org/2000/svg\" height=\"24px\"viewBox=\"0 0 24 24\"\n",
              "     width=\"24px\">\n",
              "    <g>\n",
              "        <path d=\"M19 3H5c-1.1 0-2 .9-2 2v14c0 1.1.9 2 2 2h14c1.1 0 2-.9 2-2V5c0-1.1-.9-2-2-2zM9 17H7v-7h2v7zm4 0h-2V7h2v10zm4 0h-2v-4h2v4z\"/>\n",
              "    </g>\n",
              "</svg>\n",
              "  </button>\n",
              "\n",
              "<style>\n",
              "  .colab-df-quickchart {\n",
              "      --bg-color: #E8F0FE;\n",
              "      --fill-color: #1967D2;\n",
              "      --hover-bg-color: #E2EBFA;\n",
              "      --hover-fill-color: #174EA6;\n",
              "      --disabled-fill-color: #AAA;\n",
              "      --disabled-bg-color: #DDD;\n",
              "  }\n",
              "\n",
              "  [theme=dark] .colab-df-quickchart {\n",
              "      --bg-color: #3B4455;\n",
              "      --fill-color: #D2E3FC;\n",
              "      --hover-bg-color: #434B5C;\n",
              "      --hover-fill-color: #FFFFFF;\n",
              "      --disabled-bg-color: #3B4455;\n",
              "      --disabled-fill-color: #666;\n",
              "  }\n",
              "\n",
              "  .colab-df-quickchart {\n",
              "    background-color: var(--bg-color);\n",
              "    border: none;\n",
              "    border-radius: 50%;\n",
              "    cursor: pointer;\n",
              "    display: none;\n",
              "    fill: var(--fill-color);\n",
              "    height: 32px;\n",
              "    padding: 0;\n",
              "    width: 32px;\n",
              "  }\n",
              "\n",
              "  .colab-df-quickchart:hover {\n",
              "    background-color: var(--hover-bg-color);\n",
              "    box-shadow: 0 1px 2px rgba(60, 64, 67, 0.3), 0 1px 3px 1px rgba(60, 64, 67, 0.15);\n",
              "    fill: var(--button-hover-fill-color);\n",
              "  }\n",
              "\n",
              "  .colab-df-quickchart-complete:disabled,\n",
              "  .colab-df-quickchart-complete:disabled:hover {\n",
              "    background-color: var(--disabled-bg-color);\n",
              "    fill: var(--disabled-fill-color);\n",
              "    box-shadow: none;\n",
              "  }\n",
              "\n",
              "  .colab-df-spinner {\n",
              "    border: 2px solid var(--fill-color);\n",
              "    border-color: transparent;\n",
              "    border-bottom-color: var(--fill-color);\n",
              "    animation:\n",
              "      spin 1s steps(1) infinite;\n",
              "  }\n",
              "\n",
              "  @keyframes spin {\n",
              "    0% {\n",
              "      border-color: transparent;\n",
              "      border-bottom-color: var(--fill-color);\n",
              "      border-left-color: var(--fill-color);\n",
              "    }\n",
              "    20% {\n",
              "      border-color: transparent;\n",
              "      border-left-color: var(--fill-color);\n",
              "      border-top-color: var(--fill-color);\n",
              "    }\n",
              "    30% {\n",
              "      border-color: transparent;\n",
              "      border-left-color: var(--fill-color);\n",
              "      border-top-color: var(--fill-color);\n",
              "      border-right-color: var(--fill-color);\n",
              "    }\n",
              "    40% {\n",
              "      border-color: transparent;\n",
              "      border-right-color: var(--fill-color);\n",
              "      border-top-color: var(--fill-color);\n",
              "    }\n",
              "    60% {\n",
              "      border-color: transparent;\n",
              "      border-right-color: var(--fill-color);\n",
              "    }\n",
              "    80% {\n",
              "      border-color: transparent;\n",
              "      border-right-color: var(--fill-color);\n",
              "      border-bottom-color: var(--fill-color);\n",
              "    }\n",
              "    90% {\n",
              "      border-color: transparent;\n",
              "      border-bottom-color: var(--fill-color);\n",
              "    }\n",
              "  }\n",
              "</style>\n",
              "\n",
              "  <script>\n",
              "    async function quickchart(key) {\n",
              "      const quickchartButtonEl =\n",
              "        document.querySelector('#' + key + ' button');\n",
              "      quickchartButtonEl.disabled = true;  // To prevent multiple clicks.\n",
              "      quickchartButtonEl.classList.add('colab-df-spinner');\n",
              "      try {\n",
              "        const charts = await google.colab.kernel.invokeFunction(\n",
              "            'suggestCharts', [key], {});\n",
              "      } catch (error) {\n",
              "        console.error('Error during call to suggestCharts:', error);\n",
              "      }\n",
              "      quickchartButtonEl.classList.remove('colab-df-spinner');\n",
              "      quickchartButtonEl.classList.add('colab-df-quickchart-complete');\n",
              "    }\n",
              "    (() => {\n",
              "      let quickchartButtonEl =\n",
              "        document.querySelector('#df-28262f85-1cd8-4aab-82f3-7ff347cddf23 button');\n",
              "      quickchartButtonEl.style.display =\n",
              "        google.colab.kernel.accessAllowed ? 'block' : 'none';\n",
              "    })();\n",
              "  </script>\n",
              "</div>\n",
              "    </div>\n",
              "  </div>\n"
            ],
            "application/vnd.google.colaboratory.intrinsic+json": {
              "type": "dataframe",
              "variable_name": "data"
            }
          },
          "metadata": {},
          "execution_count": 424
        }
      ]
    },
    {
      "cell_type": "markdown",
      "source": [
        "## imports"
      ],
      "metadata": {
        "id": "mvKHF9FIdBOZ"
      }
    },
    {
      "cell_type": "code",
      "source": [
        "import numpy as np\n",
        "import pandas as pd"
      ],
      "metadata": {
        "id": "KX44w-UWqBST"
      },
      "execution_count": null,
      "outputs": []
    },
    {
      "cell_type": "code",
      "source": [
        "from sklearn.metrics import mean_squared_error"
      ],
      "metadata": {
        "id": "yrJbsrp4dcvO"
      },
      "execution_count": null,
      "outputs": []
    },
    {
      "cell_type": "code",
      "source": [
        "from sklearn.model_selection import train_test_split"
      ],
      "metadata": {
        "id": "EirHuuBZneJq"
      },
      "execution_count": null,
      "outputs": []
    },
    {
      "cell_type": "code",
      "source": [
        "from sklearn.model_selection import StratifiedKFold"
      ],
      "metadata": {
        "id": "TqquECWtn6R3"
      },
      "execution_count": null,
      "outputs": []
    },
    {
      "cell_type": "markdown",
      "source": [
        "##splitting train/test + baseline"
      ],
      "metadata": {
        "id": "8YXgD4ixnFiK"
      }
    },
    {
      "cell_type": "code",
      "source": [
        "features = [col for col in data.columns if data[col].dtype != 'O' and col != 'price']\n",
        "features"
      ],
      "metadata": {
        "colab": {
          "base_uri": "https://localhost:8080/"
        },
        "id": "KLMgIDDrpKRz",
        "outputId": "32e51157-01c9-406e-b1dc-82d5f3dc942b"
      },
      "execution_count": null,
      "outputs": [
        {
          "output_type": "execute_result",
          "data": {
            "text/plain": [
              "['mark',\n",
              " 'model',\n",
              " 'year',\n",
              " 'equipment',\n",
              " 'mileage',\n",
              " 'place',\n",
              " 'gearbox',\n",
              " 'description',\n",
              " 'number',\n",
              " 'vin',\n",
              " 'vin_checked',\n",
              " 'accident',\n",
              " 'lease_available',\n",
              " 'seller_is_auto_ria',\n",
              " 'loan_years',\n",
              " 'loan_rate',\n",
              " 'mean_price',\n",
              " 'engine_power',\n",
              " 'tdi',\n",
              " 'ev',\n",
              " 'kwh',\n",
              " 'awd']"
            ]
          },
          "metadata": {},
          "execution_count": 13
        }
      ]
    },
    {
      "cell_type": "code",
      "source": [
        "basic_features = ['mark', 'model', 'year', 'equipment', 'mileage', 'place']"
      ],
      "metadata": {
        "id": "F-lyJDco11bt"
      },
      "execution_count": null,
      "outputs": []
    },
    {
      "cell_type": "code",
      "source": [
        "bin_count = 30\n",
        "bin_numbers = pd.qcut(\n",
        "    x=data['price'], q=bin_count, labels=False, duplicates='drop'\n",
        ")"
      ],
      "metadata": {
        "id": "Kx0PHlWdpjbF"
      },
      "execution_count": null,
      "outputs": []
    },
    {
      "cell_type": "code",
      "source": [
        "train_features, test_features, train_labels, test_labels = train_test_split(data[features], data['price'], test_size=0.2, random_state=42, stratify=bin_numbers)"
      ],
      "metadata": {
        "id": "KlL9suJdoDnj"
      },
      "execution_count": null,
      "outputs": []
    },
    {
      "cell_type": "code",
      "source": [
        "train_labels.hist()"
      ],
      "metadata": {
        "colab": {
          "base_uri": "https://localhost:8080/",
          "height": 447
        },
        "id": "2iIW3X_BrUHt",
        "outputId": "b7317e23-f274-43f2-cf94-1282df383985"
      },
      "execution_count": null,
      "outputs": [
        {
          "output_type": "execute_result",
          "data": {
            "text/plain": [
              "<Axes: >"
            ]
          },
          "metadata": {},
          "execution_count": 56
        },
        {
          "output_type": "display_data",
          "data": {
            "text/plain": [
              "<Figure size 640x480 with 1 Axes>"
            ],
            "image/png": "[encoded data removed]"
          },
          "metadata": {}
        }
      ]
    },
    {
      "cell_type": "code",
      "source": [
        "test_labels.hist()"
      ],
      "metadata": {
        "colab": {
          "base_uri": "https://localhost:8080/",
          "height": 447
        },
        "id": "CNscKeJsscyA",
        "outputId": "de4abb78-0a78-4559-f330-8fdae760ad80"
      },
      "execution_count": null,
      "outputs": [
        {
          "output_type": "execute_result",
          "data": {
            "text/plain": [
              "<Axes: >"
            ]
          },
          "metadata": {},
          "execution_count": 57
        },
        {
          "output_type": "display_data",
          "data": {
            "text/plain": [
              "<Figure size 640x480 with 1 Axes>"
            ],
            "image/png": "[encoded data removed]"
          },
          "metadata": {}
        }
      ]
    },
    {
      "cell_type": "code",
      "source": [
        "skf = StratifiedKFold(n_splits=5, shuffle=True, random_state=42)"
      ],
      "metadata": {
        "id": "D_K2-oqXnE-X"
      },
      "execution_count": null,
      "outputs": []
    },
    {
      "cell_type": "code",
      "source": [
        "mean_squared_error(test_labels, test_features['mean_price'], squared=False)"
      ],
      "metadata": {
        "colab": {
          "base_uri": "https://localhost:8080/"
        },
        "id": "59ERc5Jom668",
        "outputId": "a90a34e3-c2e6-41ad-9695-6532bd48cbb3"
      },
      "execution_count": null,
      "outputs": [
        {
          "output_type": "execute_result",
          "data": {
            "text/plain": [
              "18066.70637769775"
            ]
          },
          "metadata": {},
          "execution_count": 61
        }
      ]
    },
    {
      "cell_type": "markdown",
      "source": [
        "## decision tree"
      ],
      "metadata": {
        "id": "O1_qauBXsvJj"
      }
    },
    {
      "cell_type": "code",
      "source": [
        "from sklearn.tree import DecisionTreeRegressor\n",
        "from sklearn.model_selection import GridSearchCV"
      ],
      "metadata": {
        "id": "KUoT8ZRKtgxH"
      },
      "execution_count": null,
      "outputs": []
    },
    {
      "cell_type": "code",
      "source": [
        "dt_model = DecisionTreeRegressor(random_state=26)\n",
        "param_grid = {'max_depth': [4, 5, 6],\n",
        "              'max_features': [2, 3, 4, 5, 6],\n",
        "              'min_samples_leaf': [5, 10, 15, 20]}\n",
        "\n",
        "dt_model_grid = GridSearchCV(dt_model, param_grid, scoring='neg_root_mean_squared_error', cv=skf)"
      ],
      "metadata": {
        "id": "RvgK8oKNtldB"
      },
      "execution_count": null,
      "outputs": []
    },
    {
      "cell_type": "code",
      "source": [
        "dt_model_grid.fit(train_features[basic_features], train_labels)"
      ],
      "metadata": {
        "colab": {
          "base_uri": "https://localhost:8080/",
          "height": 171
        },
        "id": "Jg2tELr9twSs",
        "outputId": "56b00a60-bf92-4496-ae9c-f683ad5ea10d"
      },
      "execution_count": null,
      "outputs": [
        {
          "output_type": "stream",
          "name": "stderr",
          "text": [
            "/usr/local/lib/python3.10/dist-packages/sklearn/model_selection/_split.py:700: UserWarning: The least populated class in y has only 1 members, which is less than n_splits=5.\n",
            "  warnings.warn(\n"
          ]
        },
        {
          "output_type": "execute_result",
          "data": {
            "text/plain": [
              "GridSearchCV(cv=StratifiedKFold(n_splits=5, random_state=42, shuffle=True),\n",
              "             estimator=DecisionTreeRegressor(random_state=26),\n",
              "             param_grid={'max_depth': [4, 5, 6],\n",
              "                         'max_features': [2, 3, 4, 5, 6],\n",
              "                         'min_samples_leaf': [5, 10, 15, 20]},\n",
              "             scoring='neg_root_mean_squared_error')"
            ],
            "text/html": [
              "<style>#sk-container-id-4 {color: black;background-color: white;}#sk-container-id-4 pre{padding: 0;}#sk-container-id-4 div.sk-toggleable {background-color: white;}#sk-container-id-4 label.sk-toggleable__label {cursor: pointer;display: block;width: 100%;margin-bottom: 0;padding: 0.3em;box-sizing: border-box;text-align: center;}#sk-container-id-4 label.sk-toggleable__label-arrow:before {content: \"▸\";float: left;margin-right: 0.25em;color: #696969;}#sk-container-id-4 label.sk-toggleable__label-arrow:hover:before {color: black;}#sk-container-id-4 div.sk-estimator:hover label.sk-toggleable__label-arrow:before {color: black;}#sk-container-id-4 div.sk-toggleable__content {max-height: 0;max-width: 0;overflow: hidden;text-align: left;background-color: #f0f8ff;}#sk-container-id-4 div.sk-toggleable__content pre {margin: 0.2em;color: black;border-radius: 0.25em;background-color: #f0f8ff;}#sk-container-id-4 input.sk-toggleable__control:checked~div.sk-toggleable__content {max-height: 200px;max-width: 100%;overflow: auto;}#sk-container-id-4 input.sk-toggleable__control:checked~label.sk-toggleable__label-arrow:before {content: \"▾\";}#sk-container-id-4 div.sk-estimator input.sk-toggleable__control:checked~label.sk-toggleable__label {background-color: #d4ebff;}#sk-container-id-4 div.sk-label input.sk-toggleable__control:checked~label.sk-toggleable__label {background-color: #d4ebff;}#sk-container-id-4 input.sk-hidden--visually {border: 0;clip: rect(1px 1px 1px 1px);clip: rect(1px, 1px, 1px, 1px);height: 1px;margin: -1px;overflow: hidden;padding: 0;position: absolute;width: 1px;}#sk-container-id-4 div.sk-estimator {font-family: monospace;background-color: #f0f8ff;border: 1px dotted black;border-radius: 0.25em;box-sizing: border-box;margin-bottom: 0.5em;}#sk-container-id-4 div.sk-estimator:hover {background-color: #d4ebff;}#sk-container-id-4 div.sk-parallel-item::after {content: \"\";width: 100%;border-bottom: 1px solid gray;flex-grow: 1;}#sk-container-id-4 div.sk-label:hover label.sk-toggleable__label {background-color: #d4ebff;}#sk-container-id-4 div.sk-serial::before {content: \"\";position: absolute;border-left: 1px solid gray;box-sizing: border-box;top: 0;bottom: 0;left: 50%;z-index: 0;}#sk-container-id-4 div.sk-serial {display: flex;flex-direction: column;align-items: center;background-color: white;padding-right: 0.2em;padding-left: 0.2em;position: relative;}#sk-container-id-4 div.sk-item {position: relative;z-index: 1;}#sk-container-id-4 div.sk-parallel {display: flex;align-items: stretch;justify-content: center;background-color: white;position: relative;}#sk-container-id-4 div.sk-item::before, #sk-container-id-4 div.sk-parallel-item::before {content: \"\";position: absolute;border-left: 1px solid gray;box-sizing: border-box;top: 0;bottom: 0;left: 50%;z-index: -1;}#sk-container-id-4 div.sk-parallel-item {display: flex;flex-direction: column;z-index: 1;position: relative;background-color: white;}#sk-container-id-4 div.sk-parallel-item:first-child::after {align-self: flex-end;width: 50%;}#sk-container-id-4 div.sk-parallel-item:last-child::after {align-self: flex-start;width: 50%;}#sk-container-id-4 div.sk-parallel-item:only-child::after {width: 0;}#sk-container-id-4 div.sk-dashed-wrapped {border: 1px dashed gray;margin: 0 0.4em 0.5em 0.4em;box-sizing: border-box;padding-bottom: 0.4em;background-color: white;}#sk-container-id-4 div.sk-label label {font-family: monospace;font-weight: bold;display: inline-block;line-height: 1.2em;}#sk-container-id-4 div.sk-label-container {text-align: center;}#sk-container-id-4 div.sk-container {/* jupyter's `normalize.less` sets `[hidden] { display: none; }` but bootstrap.min.css set `[hidden] { display: none !important; }` so we also need the `!important` here to be able to override the default hidden behavior on the sphinx rendered scikit-learn.org. See: https://github.com/scikit-learn/scikit-learn/issues/21755 */display: inline-block !important;position: relative;}#sk-container-id-4 div.sk-text-repr-fallback {display: none;}</style><div id=\"sk-container-id-4\" class=\"sk-top-container\"><div class=\"sk-text-repr-fallback\"><pre>GridSearchCV(cv=StratifiedKFold(n_splits=5, random_state=42, shuffle=True),\n",
              "             estimator=DecisionTreeRegressor(random_state=26),\n",
              "             param_grid={&#x27;max_depth&#x27;: [4, 5, 6],\n",
              "                         &#x27;max_features&#x27;: [2, 3, 4, 5, 6],\n",
              "                         &#x27;min_samples_leaf&#x27;: [5, 10, 15, 20]},\n",
              "             scoring=&#x27;neg_root_mean_squared_error&#x27;)</pre><b>In a Jupyter environment, please rerun this cell to show the HTML representation or trust the notebook. <br />On GitHub, the HTML representation is unable to render, please try loading this page with nbviewer.org.</b></div><div class=\"sk-container\" hidden><div class=\"sk-item sk-dashed-wrapped\"><div class=\"sk-label-container\"><div class=\"sk-label sk-toggleable\"><input class=\"sk-toggleable__control sk-hidden--visually\" id=\"sk-estimator-id-8\" type=\"checkbox\" ><label for=\"sk-estimator-id-8\" class=\"sk-toggleable__label sk-toggleable__label-arrow\">GridSearchCV</label><div class=\"sk-toggleable__content\"><pre>GridSearchCV(cv=StratifiedKFold(n_splits=5, random_state=42, shuffle=True),\n",
              "             estimator=DecisionTreeRegressor(random_state=26),\n",
              "             param_grid={&#x27;max_depth&#x27;: [4, 5, 6],\n",
              "                         &#x27;max_features&#x27;: [2, 3, 4, 5, 6],\n",
              "                         &#x27;min_samples_leaf&#x27;: [5, 10, 15, 20]},\n",
              "             scoring=&#x27;neg_root_mean_squared_error&#x27;)</pre></div></div></div><div class=\"sk-parallel\"><div class=\"sk-parallel-item\"><div class=\"sk-item\"><div class=\"sk-label-container\"><div class=\"sk-label sk-toggleable\"><input class=\"sk-toggleable__control sk-hidden--visually\" id=\"sk-estimator-id-9\" type=\"checkbox\" ><label for=\"sk-estimator-id-9\" class=\"sk-toggleable__label sk-toggleable__label-arrow\">estimator: DecisionTreeRegressor</label><div class=\"sk-toggleable__content\"><pre>DecisionTreeRegressor(random_state=26)</pre></div></div></div><div class=\"sk-serial\"><div class=\"sk-item\"><div class=\"sk-estimator sk-toggleable\"><input class=\"sk-toggleable__control sk-hidden--visually\" id=\"sk-estimator-id-10\" type=\"checkbox\" ><label for=\"sk-estimator-id-10\" class=\"sk-toggleable__label sk-toggleable__label-arrow\">DecisionTreeRegressor</label><div class=\"sk-toggleable__content\"><pre>DecisionTreeRegressor(random_state=26)</pre></div></div></div></div></div></div></div></div></div></div>"
            ]
          },
          "metadata": {},
          "execution_count": 73
        }
      ]
    },
    {
      "cell_type": "code",
      "source": [
        "dt_model_grid.best_score_"
      ],
      "metadata": {
        "colab": {
          "base_uri": "https://localhost:8080/"
        },
        "id": "4wNwAZK_0GjH",
        "outputId": "ffb91b0c-6e1d-41a7-df1a-0c96e6a21a6d"
      },
      "execution_count": null,
      "outputs": [
        {
          "output_type": "execute_result",
          "data": {
            "text/plain": [
              "-16739.131005307714"
            ]
          },
          "metadata": {},
          "execution_count": 74
        }
      ]
    },
    {
      "cell_type": "code",
      "source": [
        "dt_model_grid.fit(train_features, train_labels)"
      ],
      "metadata": {
        "outputId": "0b8d9729-18a8-4c7d-e81a-6dcb64f6c602",
        "colab": {
          "base_uri": "https://localhost:8080/",
          "height": 171
        },
        "id": "PwF4XzFS4WHh"
      },
      "execution_count": null,
      "outputs": [
        {
          "output_type": "stream",
          "name": "stderr",
          "text": [
            "/usr/local/lib/python3.10/dist-packages/sklearn/model_selection/_split.py:700: UserWarning: The least populated class in y has only 1 members, which is less than n_splits=5.\n",
            "  warnings.warn(\n"
          ]
        },
        {
          "output_type": "execute_result",
          "data": {
            "text/plain": [
              "GridSearchCV(cv=StratifiedKFold(n_splits=5, random_state=42, shuffle=True),\n",
              "             estimator=DecisionTreeRegressor(random_state=26),\n",
              "             param_grid={'max_depth': [4, 5, 6],\n",
              "                         'max_features': [2, 3, 4, 5, 6],\n",
              "                         'min_samples_leaf': [5, 10, 15, 20]},\n",
              "             scoring='neg_root_mean_squared_error')"
            ],
            "text/html": [
              "<style>#sk-container-id-5 {color: black;background-color: white;}#sk-container-id-5 pre{padding: 0;}#sk-container-id-5 div.sk-toggleable {background-color: white;}#sk-container-id-5 label.sk-toggleable__label {cursor: pointer;display: block;width: 100%;margin-bottom: 0;padding: 0.3em;box-sizing: border-box;text-align: center;}#sk-container-id-5 label.sk-toggleable__label-arrow:before {content: \"▸\";float: left;margin-right: 0.25em;color: #696969;}#sk-container-id-5 label.sk-toggleable__label-arrow:hover:before {color: black;}#sk-container-id-5 div.sk-estimator:hover label.sk-toggleable__label-arrow:before {color: black;}#sk-container-id-5 div.sk-toggleable__content {max-height: 0;max-width: 0;overflow: hidden;text-align: left;background-color: #f0f8ff;}#sk-container-id-5 div.sk-toggleable__content pre {margin: 0.2em;color: black;border-radius: 0.25em;background-color: #f0f8ff;}#sk-container-id-5 input.sk-toggleable__control:checked~div.sk-toggleable__content {max-height: 200px;max-width: 100%;overflow: auto;}#sk-container-id-5 input.sk-toggleable__control:checked~label.sk-toggleable__label-arrow:before {content: \"▾\";}#sk-container-id-5 div.sk-estimator input.sk-toggleable__control:checked~label.sk-toggleable__label {background-color: #d4ebff;}#sk-container-id-5 div.sk-label input.sk-toggleable__control:checked~label.sk-toggleable__label {background-color: #d4ebff;}#sk-container-id-5 input.sk-hidden--visually {border: 0;clip: rect(1px 1px 1px 1px);clip: rect(1px, 1px, 1px, 1px);height: 1px;margin: -1px;overflow: hidden;padding: 0;position: absolute;width: 1px;}#sk-container-id-5 div.sk-estimator {font-family: monospace;background-color: #f0f8ff;border: 1px dotted black;border-radius: 0.25em;box-sizing: border-box;margin-bottom: 0.5em;}#sk-container-id-5 div.sk-estimator:hover {background-color: #d4ebff;}#sk-container-id-5 div.sk-parallel-item::after {content: \"\";width: 100%;border-bottom: 1px solid gray;flex-grow: 1;}#sk-container-id-5 div.sk-label:hover label.sk-toggleable__label {background-color: #d4ebff;}#sk-container-id-5 div.sk-serial::before {content: \"\";position: absolute;border-left: 1px solid gray;box-sizing: border-box;top: 0;bottom: 0;left: 50%;z-index: 0;}#sk-container-id-5 div.sk-serial {display: flex;flex-direction: column;align-items: center;background-color: white;padding-right: 0.2em;padding-left: 0.2em;position: relative;}#sk-container-id-5 div.sk-item {position: relative;z-index: 1;}#sk-container-id-5 div.sk-parallel {display: flex;align-items: stretch;justify-content: center;background-color: white;position: relative;}#sk-container-id-5 div.sk-item::before, #sk-container-id-5 div.sk-parallel-item::before {content: \"\";position: absolute;border-left: 1px solid gray;box-sizing: border-box;top: 0;bottom: 0;left: 50%;z-index: -1;}#sk-container-id-5 div.sk-parallel-item {display: flex;flex-direction: column;z-index: 1;position: relative;background-color: white;}#sk-container-id-5 div.sk-parallel-item:first-child::after {align-self: flex-end;width: 50%;}#sk-container-id-5 div.sk-parallel-item:last-child::after {align-self: flex-start;width: 50%;}#sk-container-id-5 div.sk-parallel-item:only-child::after {width: 0;}#sk-container-id-5 div.sk-dashed-wrapped {border: 1px dashed gray;margin: 0 0.4em 0.5em 0.4em;box-sizing: border-box;padding-bottom: 0.4em;background-color: white;}#sk-container-id-5 div.sk-label label {font-family: monospace;font-weight: bold;display: inline-block;line-height: 1.2em;}#sk-container-id-5 div.sk-label-container {text-align: center;}#sk-container-id-5 div.sk-container {/* jupyter's `normalize.less` sets `[hidden] { display: none; }` but bootstrap.min.css set `[hidden] { display: none !important; }` so we also need the `!important` here to be able to override the default hidden behavior on the sphinx rendered scikit-learn.org. See: https://github.com/scikit-learn/scikit-learn/issues/21755 */display: inline-block !important;position: relative;}#sk-container-id-5 div.sk-text-repr-fallback {display: none;}</style><div id=\"sk-container-id-5\" class=\"sk-top-container\"><div class=\"sk-text-repr-fallback\"><pre>GridSearchCV(cv=StratifiedKFold(n_splits=5, random_state=42, shuffle=True),\n",
              "             estimator=DecisionTreeRegressor(random_state=26),\n",
              "             param_grid={&#x27;max_depth&#x27;: [4, 5, 6],\n",
              "                         &#x27;max_features&#x27;: [2, 3, 4, 5, 6],\n",
              "                         &#x27;min_samples_leaf&#x27;: [5, 10, 15, 20]},\n",
              "             scoring=&#x27;neg_root_mean_squared_error&#x27;)</pre><b>In a Jupyter environment, please rerun this cell to show the HTML representation or trust the notebook. <br />On GitHub, the HTML representation is unable to render, please try loading this page with nbviewer.org.</b></div><div class=\"sk-container\" hidden><div class=\"sk-item sk-dashed-wrapped\"><div class=\"sk-label-container\"><div class=\"sk-label sk-toggleable\"><input class=\"sk-toggleable__control sk-hidden--visually\" id=\"sk-estimator-id-11\" type=\"checkbox\" ><label for=\"sk-estimator-id-11\" class=\"sk-toggleable__label sk-toggleable__label-arrow\">GridSearchCV</label><div class=\"sk-toggleable__content\"><pre>GridSearchCV(cv=StratifiedKFold(n_splits=5, random_state=42, shuffle=True),\n",
              "             estimator=DecisionTreeRegressor(random_state=26),\n",
              "             param_grid={&#x27;max_depth&#x27;: [4, 5, 6],\n",
              "                         &#x27;max_features&#x27;: [2, 3, 4, 5, 6],\n",
              "                         &#x27;min_samples_leaf&#x27;: [5, 10, 15, 20]},\n",
              "             scoring=&#x27;neg_root_mean_squared_error&#x27;)</pre></div></div></div><div class=\"sk-parallel\"><div class=\"sk-parallel-item\"><div class=\"sk-item\"><div class=\"sk-label-container\"><div class=\"sk-label sk-toggleable\"><input class=\"sk-toggleable__control sk-hidden--visually\" id=\"sk-estimator-id-12\" type=\"checkbox\" ><label for=\"sk-estimator-id-12\" class=\"sk-toggleable__label sk-toggleable__label-arrow\">estimator: DecisionTreeRegressor</label><div class=\"sk-toggleable__content\"><pre>DecisionTreeRegressor(random_state=26)</pre></div></div></div><div class=\"sk-serial\"><div class=\"sk-item\"><div class=\"sk-estimator sk-toggleable\"><input class=\"sk-toggleable__control sk-hidden--visually\" id=\"sk-estimator-id-13\" type=\"checkbox\" ><label for=\"sk-estimator-id-13\" class=\"sk-toggleable__label sk-toggleable__label-arrow\">DecisionTreeRegressor</label><div class=\"sk-toggleable__content\"><pre>DecisionTreeRegressor(random_state=26)</pre></div></div></div></div></div></div></div></div></div></div>"
            ]
          },
          "metadata": {},
          "execution_count": 75
        }
      ]
    },
    {
      "cell_type": "code",
      "source": [
        "dt_model_grid.best_score_"
      ],
      "metadata": {
        "outputId": "8a1e0285-5c3a-4aea-f25d-b387556d0ab0",
        "colab": {
          "base_uri": "https://localhost:8080/"
        },
        "id": "LCKxgKKX4WHp"
      },
      "execution_count": null,
      "outputs": [
        {
          "output_type": "execute_result",
          "data": {
            "text/plain": [
              "-13591.439562824875"
            ]
          },
          "metadata": {},
          "execution_count": 76
        }
      ]
    },
    {
      "cell_type": "markdown",
      "source": [
        "## random forest"
      ],
      "metadata": {
        "id": "rxxme_8-0Q-u"
      }
    },
    {
      "cell_type": "code",
      "source": [
        "from sklearn.ensemble import RandomForestRegressor"
      ],
      "metadata": {
        "id": "Z7Qg5SuQ0UBb"
      },
      "execution_count": null,
      "outputs": []
    },
    {
      "cell_type": "code",
      "source": [
        "rf_model = RandomForestRegressor(random_state=26)\n",
        "param_grid = {'max_depth': [4, 5, 6, 7, 8],\n",
        "              'max_features': [2, 3, 4, 5, 6],\n",
        "              'min_samples_leaf': [5, 10, 15, 20]}\n",
        "\n",
        "rf_model_grid = GridSearchCV(rf_model, param_grid, scoring='neg_root_mean_squared_error', n_jobs=-1, cv=skf)"
      ],
      "metadata": {
        "id": "BQfnHXKm0V2F"
      },
      "execution_count": null,
      "outputs": []
    },
    {
      "cell_type": "code",
      "source": [
        "rf_model_grid.fit(train_features, train_labels)"
      ],
      "metadata": {
        "colab": {
          "base_uri": "https://localhost:8080/",
          "height": 171
        },
        "id": "kTwwpBx-0oLU",
        "outputId": "531bd41d-93b3-4cf6-a468-d0d58b5dc4b6"
      },
      "execution_count": null,
      "outputs": [
        {
          "output_type": "stream",
          "name": "stderr",
          "text": [
            "/usr/local/lib/python3.10/dist-packages/sklearn/model_selection/_split.py:700: UserWarning: The least populated class in y has only 1 members, which is less than n_splits=5.\n",
            "  warnings.warn(\n"
          ]
        },
        {
          "output_type": "execute_result",
          "data": {
            "text/plain": [
              "GridSearchCV(cv=StratifiedKFold(n_splits=5, random_state=42, shuffle=True),\n",
              "             estimator=RandomForestRegressor(random_state=26), n_jobs=-1,\n",
              "             param_grid={'max_depth': [4, 5, 6, 7, 8],\n",
              "                         'max_features': [2, 3, 4, 5, 6],\n",
              "                         'min_samples_leaf': [5, 10, 15, 20]},\n",
              "             scoring='neg_root_mean_squared_error')"
            ],
            "text/html": [
              "<style>#sk-container-id-2 {color: black;background-color: white;}#sk-container-id-2 pre{padding: 0;}#sk-container-id-2 div.sk-toggleable {background-color: white;}#sk-container-id-2 label.sk-toggleable__label {cursor: pointer;display: block;width: 100%;margin-bottom: 0;padding: 0.3em;box-sizing: border-box;text-align: center;}#sk-container-id-2 label.sk-toggleable__label-arrow:before {content: \"▸\";float: left;margin-right: 0.25em;color: #696969;}#sk-container-id-2 label.sk-toggleable__label-arrow:hover:before {color: black;}#sk-container-id-2 div.sk-estimator:hover label.sk-toggleable__label-arrow:before {color: black;}#sk-container-id-2 div.sk-toggleable__content {max-height: 0;max-width: 0;overflow: hidden;text-align: left;background-color: #f0f8ff;}#sk-container-id-2 div.sk-toggleable__content pre {margin: 0.2em;color: black;border-radius: 0.25em;background-color: #f0f8ff;}#sk-container-id-2 input.sk-toggleable__control:checked~div.sk-toggleable__content {max-height: 200px;max-width: 100%;overflow: auto;}#sk-container-id-2 input.sk-toggleable__control:checked~label.sk-toggleable__label-arrow:before {content: \"▾\";}#sk-container-id-2 div.sk-estimator input.sk-toggleable__control:checked~label.sk-toggleable__label {background-color: #d4ebff;}#sk-container-id-2 div.sk-label input.sk-toggleable__control:checked~label.sk-toggleable__label {background-color: #d4ebff;}#sk-container-id-2 input.sk-hidden--visually {border: 0;clip: rect(1px 1px 1px 1px);clip: rect(1px, 1px, 1px, 1px);height: 1px;margin: -1px;overflow: hidden;padding: 0;position: absolute;width: 1px;}#sk-container-id-2 div.sk-estimator {font-family: monospace;background-color: #f0f8ff;border: 1px dotted black;border-radius: 0.25em;box-sizing: border-box;margin-bottom: 0.5em;}#sk-container-id-2 div.sk-estimator:hover {background-color: #d4ebff;}#sk-container-id-2 div.sk-parallel-item::after {content: \"\";width: 100%;border-bottom: 1px solid gray;flex-grow: 1;}#sk-container-id-2 div.sk-label:hover label.sk-toggleable__label {background-color: #d4ebff;}#sk-container-id-2 div.sk-serial::before {content: \"\";position: absolute;border-left: 1px solid gray;box-sizing: border-box;top: 0;bottom: 0;left: 50%;z-index: 0;}#sk-container-id-2 div.sk-serial {display: flex;flex-direction: column;align-items: center;background-color: white;padding-right: 0.2em;padding-left: 0.2em;position: relative;}#sk-container-id-2 div.sk-item {position: relative;z-index: 1;}#sk-container-id-2 div.sk-parallel {display: flex;align-items: stretch;justify-content: center;background-color: white;position: relative;}#sk-container-id-2 div.sk-item::before, #sk-container-id-2 div.sk-parallel-item::before {content: \"\";position: absolute;border-left: 1px solid gray;box-sizing: border-box;top: 0;bottom: 0;left: 50%;z-index: -1;}#sk-container-id-2 div.sk-parallel-item {display: flex;flex-direction: column;z-index: 1;position: relative;background-color: white;}#sk-container-id-2 div.sk-parallel-item:first-child::after {align-self: flex-end;width: 50%;}#sk-container-id-2 div.sk-parallel-item:last-child::after {align-self: flex-start;width: 50%;}#sk-container-id-2 div.sk-parallel-item:only-child::after {width: 0;}#sk-container-id-2 div.sk-dashed-wrapped {border: 1px dashed gray;margin: 0 0.4em 0.5em 0.4em;box-sizing: border-box;padding-bottom: 0.4em;background-color: white;}#sk-container-id-2 div.sk-label label {font-family: monospace;font-weight: bold;display: inline-block;line-height: 1.2em;}#sk-container-id-2 div.sk-label-container {text-align: center;}#sk-container-id-2 div.sk-container {/* jupyter's `normalize.less` sets `[hidden] { display: none; }` but bootstrap.min.css set `[hidden] { display: none !important; }` so we also need the `!important` here to be able to override the default hidden behavior on the sphinx rendered scikit-learn.org. See: https://github.com/scikit-learn/scikit-learn/issues/21755 */display: inline-block !important;position: relative;}#sk-container-id-2 div.sk-text-repr-fallback {display: none;}</style><div id=\"sk-container-id-2\" class=\"sk-top-container\"><div class=\"sk-text-repr-fallback\"><pre>GridSearchCV(cv=StratifiedKFold(n_splits=5, random_state=42, shuffle=True),\n",
              "             estimator=RandomForestRegressor(random_state=26), n_jobs=-1,\n",
              "             param_grid={&#x27;max_depth&#x27;: [4, 5, 6, 7, 8],\n",
              "                         &#x27;max_features&#x27;: [2, 3, 4, 5, 6],\n",
              "                         &#x27;min_samples_leaf&#x27;: [5, 10, 15, 20]},\n",
              "             scoring=&#x27;neg_root_mean_squared_error&#x27;)</pre><b>In a Jupyter environment, please rerun this cell to show the HTML representation or trust the notebook. <br />On GitHub, the HTML representation is unable to render, please try loading this page with nbviewer.org.</b></div><div class=\"sk-container\" hidden><div class=\"sk-item sk-dashed-wrapped\"><div class=\"sk-label-container\"><div class=\"sk-label sk-toggleable\"><input class=\"sk-toggleable__control sk-hidden--visually\" id=\"sk-estimator-id-4\" type=\"checkbox\" ><label for=\"sk-estimator-id-4\" class=\"sk-toggleable__label sk-toggleable__label-arrow\">GridSearchCV</label><div class=\"sk-toggleable__content\"><pre>GridSearchCV(cv=StratifiedKFold(n_splits=5, random_state=42, shuffle=True),\n",
              "             estimator=RandomForestRegressor(random_state=26), n_jobs=-1,\n",
              "             param_grid={&#x27;max_depth&#x27;: [4, 5, 6, 7, 8],\n",
              "                         &#x27;max_features&#x27;: [2, 3, 4, 5, 6],\n",
              "                         &#x27;min_samples_leaf&#x27;: [5, 10, 15, 20]},\n",
              "             scoring=&#x27;neg_root_mean_squared_error&#x27;)</pre></div></div></div><div class=\"sk-parallel\"><div class=\"sk-parallel-item\"><div class=\"sk-item\"><div class=\"sk-label-container\"><div class=\"sk-label sk-toggleable\"><input class=\"sk-toggleable__control sk-hidden--visually\" id=\"sk-estimator-id-5\" type=\"checkbox\" ><label for=\"sk-estimator-id-5\" class=\"sk-toggleable__label sk-toggleable__label-arrow\">estimator: RandomForestRegressor</label><div class=\"sk-toggleable__content\"><pre>RandomForestRegressor(random_state=26)</pre></div></div></div><div class=\"sk-serial\"><div class=\"sk-item\"><div class=\"sk-estimator sk-toggleable\"><input class=\"sk-toggleable__control sk-hidden--visually\" id=\"sk-estimator-id-6\" type=\"checkbox\" ><label for=\"sk-estimator-id-6\" class=\"sk-toggleable__label sk-toggleable__label-arrow\">RandomForestRegressor</label><div class=\"sk-toggleable__content\"><pre>RandomForestRegressor(random_state=26)</pre></div></div></div></div></div></div></div></div></div></div>"
            ]
          },
          "metadata": {},
          "execution_count": 69
        }
      ]
    },
    {
      "cell_type": "code",
      "source": [
        "rf_model_grid.best_score_"
      ],
      "metadata": {
        "colab": {
          "base_uri": "https://localhost:8080/"
        },
        "id": "4kMccMKZ04zx",
        "outputId": "36430aa5-5d06-494d-8687-474def1d0934"
      },
      "execution_count": null,
      "outputs": [
        {
          "output_type": "execute_result",
          "data": {
            "text/plain": [
              "-9865.55208271198"
            ]
          },
          "metadata": {},
          "execution_count": 71
        }
      ]
    },
    {
      "cell_type": "markdown",
      "source": [
        "## xgboost"
      ],
      "metadata": {
        "id": "aylP1Hrt4i4h"
      }
    },
    {
      "cell_type": "code",
      "source": [
        "import xgboost as xgb"
      ],
      "metadata": {
        "id": "ScEcYShM4hTr"
      },
      "execution_count": null,
      "outputs": []
    },
    {
      "cell_type": "code",
      "source": [
        "xgb_train = xgb.DMatrix(train_features[basic_features], train_labels, feature_names=list(basic_features))"
      ],
      "metadata": {
        "id": "_wdLmR0p5DfV"
      },
      "execution_count": null,
      "outputs": []
    },
    {
      "cell_type": "code",
      "source": [
        "num_rounds = 10000"
      ],
      "metadata": {
        "id": "MsO4JEv75nrX"
      },
      "execution_count": null,
      "outputs": []
    },
    {
      "cell_type": "code",
      "source": [
        "parameters = {\n",
        "    \"objective\": \"reg:squarederror\",\n",
        "    \"eta\": 0.1,\n",
        "    \"verbosity\": 0,\n",
        "    \"nthread\": 4,\n",
        "    \"random_seed\": 26,\n",
        "    \"eval_metric\": 'rmse',\n",
        "\n",
        "    \"max_leaves\": 32,\n",
        "    \"subsample\": 0.7,\n",
        "    \"colsample_bytree\": 0.7,\n",
        "    \"max_depth\": 4,\n",
        "\n",
        "    \"tree_method\": \"hist\",\n",
        "    \"grow_policy\": \"lossguide\"\n",
        "}"
      ],
      "metadata": {
        "id": "jTu4o1f35WUN"
      },
      "execution_count": null,
      "outputs": []
    },
    {
      "cell_type": "code",
      "source": [
        "xgb_cv = xgb.cv(parameters, xgb_train, num_rounds, early_stopping_rounds=10,\n",
        "                      folds=skf, verbose_eval=10)"
      ],
      "metadata": {
        "colab": {
          "base_uri": "https://localhost:8080/"
        },
        "id": "qpNTZWhU5poN",
        "outputId": "7df1e4c8-1ac0-4f45-e876-28525c78b943"
      },
      "execution_count": null,
      "outputs": [
        {
          "output_type": "stream",
          "name": "stderr",
          "text": [
            "/usr/local/lib/python3.10/dist-packages/sklearn/model_selection/_split.py:700: UserWarning: The least populated class in y has only 1 members, which is less than n_splits=5.\n",
            "  warnings.warn(\n"
          ]
        },
        {
          "output_type": "stream",
          "name": "stdout",
          "text": [
            "[0]\ttrain-rmse:22027.40914+198.72816\ttest-rmse:22031.21793+769.59041\n",
            "[10]\ttrain-rmse:18144.73080+242.83288\ttest-rmse:18249.81611+889.56145\n",
            "[20]\ttrain-rmse:16588.94494+308.83596\ttest-rmse:16821.16601+841.45093\n",
            "[30]\ttrain-rmse:15668.42638+248.33717\ttest-rmse:16047.08362+910.63298\n",
            "[40]\ttrain-rmse:14940.23619+220.66856\ttest-rmse:15498.25880+925.98741\n",
            "[50]\ttrain-rmse:14517.64402+167.72996\ttest-rmse:15151.59420+948.06630\n",
            "[60]\ttrain-rmse:14135.12248+125.53252\ttest-rmse:14851.77623+949.98925\n",
            "[70]\ttrain-rmse:13786.15857+122.20045\ttest-rmse:14580.39027+931.21685\n",
            "[80]\ttrain-rmse:13484.30252+129.28048\ttest-rmse:14385.99993+900.65854\n",
            "[90]\ttrain-rmse:13197.11381+151.42977\ttest-rmse:14174.84135+932.32582\n",
            "[100]\ttrain-rmse:12950.33893+144.10122\ttest-rmse:13972.73090+908.82771\n",
            "[110]\ttrain-rmse:12760.62662+139.58354\ttest-rmse:13877.39952+878.89322\n",
            "[120]\ttrain-rmse:12601.23747+144.00544\ttest-rmse:13773.53863+873.32725\n",
            "[130]\ttrain-rmse:12461.70704+154.53395\ttest-rmse:13696.12247+898.27969\n",
            "[140]\ttrain-rmse:12322.90682+154.98816\ttest-rmse:13613.77440+909.69060\n",
            "[150]\ttrain-rmse:12197.92203+159.34704\ttest-rmse:13540.02576+900.94273\n",
            "[160]\ttrain-rmse:12060.01867+151.01691\ttest-rmse:13471.23274+890.66017\n",
            "[170]\ttrain-rmse:11928.73666+156.36354\ttest-rmse:13385.93279+859.17103\n",
            "[180]\ttrain-rmse:11815.67320+145.49533\ttest-rmse:13332.78671+846.10409\n",
            "[190]\ttrain-rmse:11687.24289+148.34342\ttest-rmse:13277.55820+841.15609\n",
            "[200]\ttrain-rmse:11579.92456+158.88881\ttest-rmse:13224.05690+828.96811\n",
            "[210]\ttrain-rmse:11472.09632+148.87354\ttest-rmse:13185.87947+839.03199\n",
            "[220]\ttrain-rmse:11342.37062+138.26835\ttest-rmse:13131.06723+853.39873\n",
            "[230]\ttrain-rmse:11252.71059+139.90245\ttest-rmse:13092.73511+861.70014\n",
            "[240]\ttrain-rmse:11154.84602+142.35149\ttest-rmse:13062.37873+867.19708\n",
            "[250]\ttrain-rmse:11054.88650+130.58526\ttest-rmse:13031.17995+869.72989\n",
            "[260]\ttrain-rmse:10961.61728+122.89422\ttest-rmse:12984.04367+863.38905\n",
            "[270]\ttrain-rmse:10880.48169+119.80529\ttest-rmse:12920.08805+875.96262\n",
            "[280]\ttrain-rmse:10810.20125+108.94978\ttest-rmse:12887.17860+883.59350\n",
            "[290]\ttrain-rmse:10751.35336+105.16316\ttest-rmse:12833.55049+864.53552\n",
            "[300]\ttrain-rmse:10674.45667+108.87990\ttest-rmse:12800.02211+862.75149\n",
            "[310]\ttrain-rmse:10601.16351+128.06742\ttest-rmse:12765.81584+863.75481\n",
            "[320]\ttrain-rmse:10518.26234+122.51811\ttest-rmse:12708.96014+856.94775\n",
            "[330]\ttrain-rmse:10452.95848+123.84016\ttest-rmse:12695.98591+856.87446\n",
            "[340]\ttrain-rmse:10392.97380+130.16524\ttest-rmse:12671.09991+852.42421\n",
            "[350]\ttrain-rmse:10316.41708+126.41149\ttest-rmse:12628.80895+861.49350\n",
            "[360]\ttrain-rmse:10235.31712+128.88660\ttest-rmse:12581.64845+863.81025\n",
            "[370]\ttrain-rmse:10163.75124+130.71542\ttest-rmse:12558.67602+870.37878\n",
            "[380]\ttrain-rmse:10100.77600+138.42023\ttest-rmse:12538.07190+883.33391\n",
            "[390]\ttrain-rmse:10042.14401+137.84737\ttest-rmse:12498.31061+887.27671\n",
            "[400]\ttrain-rmse:9987.62365+131.55655\ttest-rmse:12480.60521+885.05354\n",
            "[410]\ttrain-rmse:9931.91003+136.04338\ttest-rmse:12461.39523+886.79577\n",
            "[420]\ttrain-rmse:9875.47675+135.20084\ttest-rmse:12452.07583+884.86851\n",
            "[430]\ttrain-rmse:9825.33993+137.54093\ttest-rmse:12439.32646+902.83814\n",
            "[436]\ttrain-rmse:9803.66051+133.57218\ttest-rmse:12440.37454+897.80471\n"
          ]
        }
      ]
    },
    {
      "cell_type": "code",
      "source": [
        "xgb_train = xgb.DMatrix(train_features, train_labels, feature_names=list(features))"
      ],
      "metadata": {
        "id": "2JpHIUEg6Rgb"
      },
      "execution_count": null,
      "outputs": []
    },
    {
      "cell_type": "code",
      "source": [
        "xgb_cv = xgb.cv(parameters, xgb_train, num_rounds, early_stopping_rounds=10,\n",
        "                      folds=skf, verbose_eval=10)"
      ],
      "metadata": {
        "colab": {
          "base_uri": "https://localhost:8080/"
        },
        "id": "mvOanLXV6VBN",
        "outputId": "2e03821f-034a-44e8-9f46-8897fd62961b"
      },
      "execution_count": null,
      "outputs": [
        {
          "output_type": "stream",
          "name": "stderr",
          "text": [
            "/usr/local/lib/python3.10/dist-packages/sklearn/model_selection/_split.py:700: UserWarning: The least populated class in y has only 1 members, which is less than n_splits=5.\n",
            "  warnings.warn(\n"
          ]
        },
        {
          "output_type": "stream",
          "name": "stdout",
          "text": [
            "[0]\ttrain-rmse:20983.41113+179.28884\ttest-rmse:21032.31282+804.82088\n",
            "[10]\ttrain-rmse:13762.12358+190.14169\ttest-rmse:14174.01605+1008.53592\n",
            "[20]\ttrain-rmse:11205.65574+218.86186\ttest-rmse:11849.48468+1113.88720\n",
            "[30]\ttrain-rmse:10222.79026+184.80117\ttest-rmse:10923.98589+1021.62634\n",
            "[40]\ttrain-rmse:9682.41164+220.46519\ttest-rmse:10485.53539+993.59060\n",
            "[50]\ttrain-rmse:9294.36849+210.68761\ttest-rmse:10176.40233+919.59173\n",
            "[60]\ttrain-rmse:8988.36249+178.05814\ttest-rmse:9915.32928+827.97311\n",
            "[70]\ttrain-rmse:8807.69555+186.28523\ttest-rmse:9760.72040+801.62105\n",
            "[80]\ttrain-rmse:8627.98955+169.66683\ttest-rmse:9640.56481+801.81591\n",
            "[90]\ttrain-rmse:8459.23018+144.72408\ttest-rmse:9528.10892+790.97867\n",
            "[100]\ttrain-rmse:8308.62501+118.04903\ttest-rmse:9446.21576+790.71416\n",
            "[110]\ttrain-rmse:8193.93204+108.87282\ttest-rmse:9379.03832+796.72797\n",
            "[120]\ttrain-rmse:8061.84705+95.97216\ttest-rmse:9316.16568+799.05845\n",
            "[130]\ttrain-rmse:7932.30247+82.60402\ttest-rmse:9243.55839+798.32517\n",
            "[140]\ttrain-rmse:7802.33113+80.63137\ttest-rmse:9202.12519+817.98146\n",
            "[150]\ttrain-rmse:7661.56574+74.44581\ttest-rmse:9136.32971+828.60041\n",
            "[160]\ttrain-rmse:7572.53079+81.91270\ttest-rmse:9096.71674+824.20245\n",
            "[170]\ttrain-rmse:7468.96808+84.66323\ttest-rmse:9069.60353+852.99773\n",
            "[180]\ttrain-rmse:7363.07872+85.76553\ttest-rmse:9058.64434+888.67822\n",
            "[190]\ttrain-rmse:7258.23639+88.58224\ttest-rmse:9030.39972+880.12432\n",
            "[200]\ttrain-rmse:7168.21368+68.12668\ttest-rmse:9011.44977+900.58738\n",
            "[210]\ttrain-rmse:7064.40870+42.93347\ttest-rmse:8986.90460+884.17185\n",
            "[220]\ttrain-rmse:6977.60192+35.74258\ttest-rmse:8976.11318+896.16614\n",
            "[230]\ttrain-rmse:6903.47537+32.20381\ttest-rmse:8953.31035+897.74043\n",
            "[240]\ttrain-rmse:6820.49262+28.57027\ttest-rmse:8920.88178+891.09151\n",
            "[250]\ttrain-rmse:6739.81262+32.07815\ttest-rmse:8900.82319+878.19396\n",
            "[260]\ttrain-rmse:6677.69246+23.64148\ttest-rmse:8874.25528+890.83219\n",
            "[270]\ttrain-rmse:6623.61591+28.34739\ttest-rmse:8850.31152+901.46018\n",
            "[280]\ttrain-rmse:6566.34491+26.15280\ttest-rmse:8827.85132+887.64888\n",
            "[290]\ttrain-rmse:6500.72895+24.06690\ttest-rmse:8814.47658+915.35641\n",
            "[300]\ttrain-rmse:6442.89547+26.67200\ttest-rmse:8796.21692+916.11152\n",
            "[310]\ttrain-rmse:6384.53631+25.09564\ttest-rmse:8776.99217+909.03750\n",
            "[320]\ttrain-rmse:6328.44728+28.40321\ttest-rmse:8755.68250+918.41388\n",
            "[330]\ttrain-rmse:6280.15700+33.13862\ttest-rmse:8744.63769+898.85038\n",
            "[340]\ttrain-rmse:6232.15404+33.39958\ttest-rmse:8727.72156+912.89839\n",
            "[350]\ttrain-rmse:6192.93084+30.82029\ttest-rmse:8704.48482+904.74995\n",
            "[360]\ttrain-rmse:6154.44578+26.99716\ttest-rmse:8690.26655+913.02728\n",
            "[370]\ttrain-rmse:6107.85126+32.10755\ttest-rmse:8667.25391+908.73152\n",
            "[380]\ttrain-rmse:6063.96818+35.84568\ttest-rmse:8655.22823+922.48757\n",
            "[390]\ttrain-rmse:6027.32380+39.01864\ttest-rmse:8640.33731+907.76834\n",
            "[400]\ttrain-rmse:5988.88569+42.39275\ttest-rmse:8626.93782+911.25572\n",
            "[410]\ttrain-rmse:5952.09694+38.50824\ttest-rmse:8619.19046+917.62491\n",
            "[420]\ttrain-rmse:5918.29706+38.09088\ttest-rmse:8611.49979+927.99956\n",
            "[430]\ttrain-rmse:5888.43962+34.93985\ttest-rmse:8600.04019+930.74548\n",
            "[440]\ttrain-rmse:5852.63009+33.86583\ttest-rmse:8581.28908+943.64606\n",
            "[450]\ttrain-rmse:5823.68109+30.75080\ttest-rmse:8568.87202+935.50849\n",
            "[460]\ttrain-rmse:5791.00219+29.78529\ttest-rmse:8544.71098+922.37313\n",
            "[470]\ttrain-rmse:5762.38858+27.45323\ttest-rmse:8531.60965+917.64789\n",
            "[480]\ttrain-rmse:5735.45656+31.66089\ttest-rmse:8526.48325+916.70102\n",
            "[490]\ttrain-rmse:5699.16306+28.68074\ttest-rmse:8514.05482+916.42784\n",
            "[500]\ttrain-rmse:5674.58916+26.49799\ttest-rmse:8499.38461+916.38852\n",
            "[510]\ttrain-rmse:5651.00363+24.98598\ttest-rmse:8492.83236+914.79890\n",
            "[520]\ttrain-rmse:5627.27363+26.37102\ttest-rmse:8481.71553+911.97253\n",
            "[530]\ttrain-rmse:5598.64345+27.57224\ttest-rmse:8474.40071+912.69611\n",
            "[540]\ttrain-rmse:5577.24714+28.88139\ttest-rmse:8473.12830+909.05228\n",
            "[543]\ttrain-rmse:5571.11782+28.11769\ttest-rmse:8473.49149+911.61152\n"
          ]
        }
      ]
    },
    {
      "cell_type": "markdown",
      "source": [
        "## lightgbm"
      ],
      "metadata": {
        "id": "Nn7qzNe67My0"
      }
    },
    {
      "cell_type": "code",
      "source": [
        "import lightgbm as lgb"
      ],
      "metadata": {
        "id": "_yUnuX8F7Q3v"
      },
      "execution_count": null,
      "outputs": []
    },
    {
      "cell_type": "code",
      "source": [
        "lgb_train = lgb.Dataset(train_features[basic_features], train_labels, free_raw_data=False)"
      ],
      "metadata": {
        "id": "uJg0nI8j7Syn"
      },
      "execution_count": null,
      "outputs": []
    },
    {
      "cell_type": "code",
      "source": [
        "n_rounds = 10000"
      ],
      "metadata": {
        "id": "lnrtytBi7mzq"
      },
      "execution_count": null,
      "outputs": []
    },
    {
      "cell_type": "code",
      "source": [
        "parameters = {\n",
        "    #default\n",
        "    \"objective\": \"regression\",\n",
        "    \"learning_rate\": 0.1,\n",
        "    \"num_threads\": 10,\n",
        "    \"seed\": 26,\n",
        "\n",
        "    #regularization\n",
        "    \"colsample_bytree\": 0.9,\n",
        "    \"subsample\": 0.9,\n",
        "    \"subsample_freq\": 1,\n",
        "    \"min_data_in_leaf\": 5,\n",
        "\n",
        "    \"verbose\":-1\n",
        "}"
      ],
      "metadata": {
        "id": "FqlSsLa47lDS"
      },
      "execution_count": null,
      "outputs": []
    },
    {
      "cell_type": "code",
      "source": [
        "# only basic features\n",
        "result = lgb.cv(parameters, lgb_train, n_rounds, folds=skf, metrics='rmse', eval_train_metric=True, callbacks=[lgb.early_stopping(10), lgb.log_evaluation(period=10)])"
      ],
      "metadata": {
        "colab": {
          "base_uri": "https://localhost:8080/"
        },
        "id": "Ra6XJR7g8Gqg",
        "outputId": "726daa5b-c40a-4724-ff8d-f19236f32b15"
      },
      "execution_count": null,
      "outputs": [
        {
          "output_type": "stream",
          "name": "stderr",
          "text": [
            "/usr/local/lib/python3.10/dist-packages/sklearn/model_selection/_split.py:700: UserWarning: The least populated class in y has only 1 members, which is less than n_splits=5.\n",
            "  warnings.warn(\n"
          ]
        },
        {
          "output_type": "stream",
          "name": "stdout",
          "text": [
            "Training until validation scores don't improve for 10 rounds\n",
            "[10]\tcv_agg's train rmse: 15662.2 + 191.998\tcv_agg's valid rmse: 16342.9 + 1073.6\n",
            "[20]\tcv_agg's train rmse: 13197.3 + 143.766\tcv_agg's valid rmse: 14389.1 + 1271.81\n",
            "[30]\tcv_agg's train rmse: 11982.4 + 138.158\tcv_agg's valid rmse: 13541.3 + 1356.95\n",
            "[40]\tcv_agg's train rmse: 11170.3 + 127.014\tcv_agg's valid rmse: 13011.9 + 1415.25\n",
            "[50]\tcv_agg's train rmse: 10575.5 + 115.853\tcv_agg's valid rmse: 12678 + 1439.98\n",
            "[60]\tcv_agg's train rmse: 10130.1 + 96.454\tcv_agg's valid rmse: 12447.3 + 1446.8\n",
            "[70]\tcv_agg's train rmse: 9786.47 + 91.9401\tcv_agg's valid rmse: 12268.8 + 1448.66\n",
            "[80]\tcv_agg's train rmse: 9484.13 + 95.1748\tcv_agg's valid rmse: 12123.2 + 1437.66\n",
            "[90]\tcv_agg's train rmse: 9211.74 + 115.512\tcv_agg's valid rmse: 12035.6 + 1460.86\n",
            "[100]\tcv_agg's train rmse: 8991.35 + 113.567\tcv_agg's valid rmse: 11961.6 + 1446.51\n",
            "[110]\tcv_agg's train rmse: 8791.48 + 95.9277\tcv_agg's valid rmse: 11892.9 + 1457.73\n",
            "[120]\tcv_agg's train rmse: 8611.01 + 91.6355\tcv_agg's valid rmse: 11824.2 + 1446.59\n",
            "[130]\tcv_agg's train rmse: 8443.4 + 88.7961\tcv_agg's valid rmse: 11783.2 + 1442.92\n",
            "[140]\tcv_agg's train rmse: 8302.19 + 82.0826\tcv_agg's valid rmse: 11742.1 + 1438.77\n",
            "[150]\tcv_agg's train rmse: 8181.73 + 89.4577\tcv_agg's valid rmse: 11719.4 + 1445.87\n",
            "[160]\tcv_agg's train rmse: 8063.12 + 101.63\tcv_agg's valid rmse: 11676.7 + 1438.03\n",
            "[170]\tcv_agg's train rmse: 7953.29 + 105.733\tcv_agg's valid rmse: 11647.7 + 1437.08\n",
            "[180]\tcv_agg's train rmse: 7838.05 + 105.349\tcv_agg's valid rmse: 11616.8 + 1451.45\n",
            "[190]\tcv_agg's train rmse: 7726.22 + 103.903\tcv_agg's valid rmse: 11585.4 + 1459.97\n",
            "[200]\tcv_agg's train rmse: 7617.6 + 95.6984\tcv_agg's valid rmse: 11573.8 + 1468.87\n",
            "[210]\tcv_agg's train rmse: 7510.08 + 93.1947\tcv_agg's valid rmse: 11544.1 + 1474.28\n",
            "[220]\tcv_agg's train rmse: 7423.48 + 94.7527\tcv_agg's valid rmse: 11523 + 1478.55\n",
            "[230]\tcv_agg's train rmse: 7331.78 + 102.444\tcv_agg's valid rmse: 11501.5 + 1469.39\n",
            "[240]\tcv_agg's train rmse: 7232.98 + 99.8508\tcv_agg's valid rmse: 11489.5 + 1464.89\n",
            "[250]\tcv_agg's train rmse: 7156.8 + 104.899\tcv_agg's valid rmse: 11467.4 + 1462.63\n",
            "[260]\tcv_agg's train rmse: 7075.44 + 102.756\tcv_agg's valid rmse: 11450.4 + 1460.85\n",
            "[270]\tcv_agg's train rmse: 7007.07 + 93.6623\tcv_agg's valid rmse: 11435.8 + 1469.93\n",
            "[280]\tcv_agg's train rmse: 6932.48 + 100.228\tcv_agg's valid rmse: 11416 + 1458.4\n",
            "[290]\tcv_agg's train rmse: 6850.6 + 100.882\tcv_agg's valid rmse: 11410.7 + 1464.27\n",
            "Early stopping, best iteration is:\n",
            "[288]\tcv_agg's train rmse: 6865.36 + 103.776\tcv_agg's valid rmse: 11404.6 + 1463.85\n"
          ]
        }
      ]
    },
    {
      "cell_type": "code",
      "source": [
        "# trying on all features\n",
        "lgb_train = lgb.Dataset(train_features, train_labels, free_raw_data=False)"
      ],
      "metadata": {
        "id": "KOqlAAi28i_x"
      },
      "execution_count": null,
      "outputs": []
    },
    {
      "cell_type": "code",
      "source": [
        "result = lgb.cv(parameters, lgb_train, n_rounds, folds=skf, metrics='rmse', eval_train_metric=True, callbacks=[lgb.early_stopping(10), lgb.log_evaluation(period=10)])"
      ],
      "metadata": {
        "colab": {
          "base_uri": "https://localhost:8080/"
        },
        "id": "juA2jwtR8lW1",
        "outputId": "ff0e0b57-d888-48df-f1f9-90617792ce2b"
      },
      "execution_count": null,
      "outputs": [
        {
          "output_type": "stream",
          "name": "stderr",
          "text": [
            "/usr/local/lib/python3.10/dist-packages/sklearn/model_selection/_split.py:700: UserWarning: The least populated class in y has only 1 members, which is less than n_splits=5.\n",
            "  warnings.warn(\n"
          ]
        },
        {
          "output_type": "stream",
          "name": "stdout",
          "text": [
            "Training until validation scores don't improve for 10 rounds\n",
            "[10]\tcv_agg's train rmse: 11926.8 + 98.2858\tcv_agg's valid rmse: 12386.9 + 770.38\n",
            "[20]\tcv_agg's train rmse: 8582.31 + 58.5633\tcv_agg's valid rmse: 9406.19 + 542.881\n",
            "[30]\tcv_agg's train rmse: 7416.33 + 61.7671\tcv_agg's valid rmse: 8429.96 + 439.978\n",
            "[40]\tcv_agg's train rmse: 6835.97 + 59.394\tcv_agg's valid rmse: 7972.08 + 411.046\n",
            "[50]\tcv_agg's train rmse: 6462.93 + 48.7262\tcv_agg's valid rmse: 7750.55 + 433.341\n",
            "[60]\tcv_agg's train rmse: 6186.35 + 50.852\tcv_agg's valid rmse: 7611.46 + 477.022\n",
            "[70]\tcv_agg's train rmse: 5991.37 + 60.3977\tcv_agg's valid rmse: 7478.86 + 483.556\n",
            "[80]\tcv_agg's train rmse: 5832.76 + 52.335\tcv_agg's valid rmse: 7400.28 + 483.299\n",
            "[90]\tcv_agg's train rmse: 5690.05 + 52.0759\tcv_agg's valid rmse: 7301.43 + 495.267\n",
            "[100]\tcv_agg's train rmse: 5566.6 + 60.9638\tcv_agg's valid rmse: 7239.66 + 517.746\n",
            "[110]\tcv_agg's train rmse: 5454.05 + 50.3171\tcv_agg's valid rmse: 7187.38 + 510.587\n",
            "[120]\tcv_agg's train rmse: 5353.13 + 47.7213\tcv_agg's valid rmse: 7145.97 + 518.049\n",
            "[130]\tcv_agg's train rmse: 5257.44 + 37.0576\tcv_agg's valid rmse: 7107.34 + 524.234\n",
            "[140]\tcv_agg's train rmse: 5179.61 + 41.4575\tcv_agg's valid rmse: 7096.69 + 537.542\n",
            "[150]\tcv_agg's train rmse: 5101.45 + 47.0788\tcv_agg's valid rmse: 7063.49 + 535.352\n",
            "[160]\tcv_agg's train rmse: 5022.39 + 41.8759\tcv_agg's valid rmse: 7035.52 + 532.356\n",
            "[170]\tcv_agg's train rmse: 4953.83 + 44.367\tcv_agg's valid rmse: 7028.42 + 544.873\n",
            "[180]\tcv_agg's train rmse: 4890.47 + 43.55\tcv_agg's valid rmse: 7009.23 + 544.567\n",
            "[190]\tcv_agg's train rmse: 4827.08 + 49.0033\tcv_agg's valid rmse: 6998.85 + 539.481\n",
            "[200]\tcv_agg's train rmse: 4766.16 + 47.1148\tcv_agg's valid rmse: 6984.69 + 535.351\n",
            "[210]\tcv_agg's train rmse: 4704.52 + 50.9789\tcv_agg's valid rmse: 6973.2 + 530.888\n",
            "[220]\tcv_agg's train rmse: 4659.36 + 51.0834\tcv_agg's valid rmse: 6974.5 + 525.436\n",
            "Early stopping, best iteration is:\n",
            "[213]\tcv_agg's train rmse: 4689.93 + 51.4036\tcv_agg's valid rmse: 6969.81 + 532.864\n"
          ]
        }
      ]
    },
    {
      "cell_type": "markdown",
      "source": [
        "### tuning hyperparameters"
      ],
      "metadata": {
        "id": "k-Re2hdhDxUb"
      }
    },
    {
      "cell_type": "code",
      "source": [
        "# going back to basic features to tune hyperparameters\n",
        "lgb_train = lgb.Dataset(train_features[basic_features], train_labels, free_raw_data=False)"
      ],
      "metadata": {
        "id": "4oUmN1L4Arhg"
      },
      "execution_count": null,
      "outputs": []
    },
    {
      "cell_type": "code",
      "source": [
        "# comparing to:\n",
        "# [288]\tcv_agg's train rmse: 6865.36 + 103.776\tcv_agg's valid rmse: 11404.6 + 1463.85\n",
        "# no improvement:\n",
        "# [288]\tcv_agg's train rmse: 6865.36 + 103.776\tcv_agg's valid rmse: 11404.6 + 1463.85\n",
        "\n",
        "parameters = {\n",
        "    #default\n",
        "    \"objective\": \"regression\",\n",
        "    \"learning_rate\": 0.1,\n",
        "    \"num_threads\": 10,\n",
        "    \"seed\": 26,\n",
        "\n",
        "    #regularization\n",
        "    \"colsample_bytree\": 0.8,\n",
        "    \"subsample\": 0.9,\n",
        "    \"subsample_freq\": 1,\n",
        "    \"min_data_in_leaf\": 5,\n",
        "\n",
        "    \"verbose\":-1\n",
        "}\n",
        "\n",
        "result = lgb.cv(parameters, lgb_train, n_rounds, folds=skf, metrics='rmse', eval_train_metric=True, callbacks=[lgb.early_stopping(10), lgb.log_evaluation(period=10)])"
      ],
      "metadata": {
        "id": "fNgHINAyA2Xk"
      },
      "execution_count": null,
      "outputs": []
    },
    {
      "cell_type": "code",
      "source": [
        "# comparing to:\n",
        "# [288]\tcv_agg's train rmse: 6865.36 + 103.776\tcv_agg's valid rmse: 11404.6 + 1463.85\n",
        "# no improvement:\n",
        "# [288]\tcv_agg's train rmse: 6866.14 + 96.7202\tcv_agg's valid rmse: 11438.9 + 1465.21\n",
        "\n",
        "parameters = {\n",
        "    #default\n",
        "    \"objective\": \"regression\",\n",
        "    \"learning_rate\": 0.1,\n",
        "    \"num_threads\": 10,\n",
        "    \"seed\": 26,\n",
        "\n",
        "    #regularization\n",
        "    \"colsample_bytree\": 0.9,\n",
        "    \"subsample\": 0.8,\n",
        "    \"subsample_freq\": 1,\n",
        "    \"min_data_in_leaf\": 5,\n",
        "\n",
        "    \"verbose\":-1\n",
        "}\n",
        "\n",
        "result = lgb.cv(parameters, lgb_train, n_rounds, folds=skf, metrics='rmse', eval_train_metric=True, callbacks=[lgb.early_stopping(10), lgb.log_evaluation(period=10)])"
      ],
      "metadata": {
        "id": "k0dQhf8YBKCD"
      },
      "execution_count": null,
      "outputs": []
    },
    {
      "cell_type": "code",
      "source": [
        "# comparing to:\n",
        "# [288]\tcv_agg's train rmse: 6865.36 + 103.776\tcv_agg's valid rmse: 11404.6 + 1463.85\n",
        "# no improvement:\n",
        "# [265]\tcv_agg's train rmse: 7753.3 + 147.225\tcv_agg's valid rmse: 11414.7 + 1242.12\n",
        "\n",
        "parameters = {\n",
        "    #default\n",
        "    \"objective\": \"regression\",\n",
        "    \"learning_rate\": 0.1,\n",
        "    \"num_threads\": 10,\n",
        "    \"seed\": 26,\n",
        "\n",
        "    #regularization\n",
        "    \"colsample_bytree\": 0.9,\n",
        "    \"subsample\": 0.9,\n",
        "    \"subsample_freq\": 1,\n",
        "    \"min_data_in_leaf\": 10,\n",
        "\n",
        "    \"verbose\":-1\n",
        "}\n",
        "\n",
        "result = lgb.cv(parameters, lgb_train, n_rounds, folds=skf, metrics='rmse', eval_train_metric=True, callbacks=[lgb.early_stopping(10), lgb.log_evaluation(period=10)])"
      ],
      "metadata": {
        "id": "6LW1ELjkFtMk"
      },
      "execution_count": null,
      "outputs": []
    },
    {
      "cell_type": "code",
      "source": [
        "# comparing to:\n",
        "# [288]\tcv_agg's train rmse: 6865.36 + 103.776\tcv_agg's valid rmse: 11404.6 + 1463.85\n",
        "\n",
        "parameters = {\n",
        "    #default\n",
        "    \"objective\": \"regression\",\n",
        "    \"learning_rate\": 0.1,\n",
        "    \"num_threads\": 10,\n",
        "    \"seed\": 26,\n",
        "\n",
        "    #regularization\n",
        "    \"colsample_bytree\": 0.9,\n",
        "    \"subsample\": 0.9,\n",
        "    \"subsample_freq\": 1,\n",
        "    \"min_data_in_leaf\": 4,\n",
        "\n",
        "    \"verbose\":-1\n",
        "}\n",
        "\n",
        "result = lgb.cv(parameters, lgb_train, n_rounds, folds=skf, metrics='rmse', eval_train_metric=True, callbacks=[lgb.early_stopping(10), lgb.log_evaluation(period=10)])"
      ],
      "metadata": {
        "id": "M8zsXR2cGBav"
      },
      "execution_count": null,
      "outputs": []
    },
    {
      "cell_type": "code",
      "source": [
        "# comparing to:\n",
        "# [288]\tcv_agg's train rmse: 6620.47 + 79.2106\tcv_agg's valid rmse: 11293.8 + 1370.64\n",
        "\n",
        "parameters = {\n",
        "    #default\n",
        "    \"objective\": \"regression\",\n",
        "    \"learning_rate\": 0.1,\n",
        "    \"num_threads\": 10,\n",
        "    \"seed\": 26,\n",
        "\n",
        "    #regularization\n",
        "    \"colsample_bytree\": 0.9,\n",
        "    \"subsample\": 0.9,\n",
        "    \"subsample_freq\": 1,\n",
        "    \"min_data_in_leaf\": 3,\n",
        "\n",
        "    \"verbose\":-1\n",
        "}\n",
        "\n",
        "result = lgb.cv(parameters, lgb_train, n_rounds, folds=skf, metrics='rmse', eval_train_metric=True, callbacks=[lgb.early_stopping(10), lgb.log_evaluation(period=10)])"
      ],
      "metadata": {
        "id": "oM1CsujjGV9z"
      },
      "execution_count": null,
      "outputs": []
    },
    {
      "cell_type": "code",
      "source": [
        "# comparing to:\n",
        "# [333]\tcv_agg's train rmse: 6056.79 + 56.3811\tcv_agg's valid rmse: 11228.7 + 1356.46\n",
        "\n",
        "parameters = {\n",
        "    #default\n",
        "    \"objective\": \"regression\",\n",
        "    \"learning_rate\": 0.1,\n",
        "    \"num_threads\": 10,\n",
        "    \"seed\": 26,\n",
        "\n",
        "    #regularization\n",
        "    \"colsample_bytree\": 0.9,\n",
        "    \"subsample\": 0.9,\n",
        "    \"subsample_freq\": 1,\n",
        "    \"min_data_in_leaf\": 2,\n",
        "\n",
        "    \"verbose\":-1\n",
        "}\n",
        "\n",
        "result = lgb.cv(parameters, lgb_train, n_rounds, folds=skf, metrics='rmse', eval_train_metric=True, callbacks=[lgb.early_stopping(10), lgb.log_evaluation(period=10)])"
      ],
      "metadata": {
        "id": "uiXxm5xTGkOW"
      },
      "execution_count": null,
      "outputs": []
    },
    {
      "cell_type": "code",
      "source": [
        "# comparing to:\n",
        "# [408]\tcv_agg's train rmse: 5370.67 + 43.3584\tcv_agg's valid rmse: 11191.2 + 1486.99\n",
        "\n",
        "parameters = {\n",
        "    #default\n",
        "    \"objective\": \"regression\",\n",
        "    \"learning_rate\": 0.1,\n",
        "    \"num_threads\": 10,\n",
        "    \"seed\": 26,\n",
        "\n",
        "    #regularization\n",
        "    \"colsample_bytree\": 0.9,\n",
        "    \"subsample\": 0.9,\n",
        "    \"subsample_freq\": 1,\n",
        "    \"min_data_in_leaf\": 1,\n",
        "\n",
        "    \"verbose\":-1\n",
        "}\n",
        "\n",
        "result = lgb.cv(parameters, lgb_train, n_rounds, folds=skf, metrics='rmse', eval_train_metric=True, callbacks=[lgb.early_stopping(10), lgb.log_evaluation(period=10)])"
      ],
      "metadata": {
        "id": "VSjYSgd1HIuK"
      },
      "execution_count": null,
      "outputs": []
    },
    {
      "cell_type": "code",
      "source": [
        "# comparing to:\n",
        "# [509]\tcv_agg's train rmse: 4668.7 + 33.683\tcv_agg's valid rmse: 11048.4 + 1486.55\n",
        "# no improvement:\n",
        "# [290]\tcv_agg's train rmse: 4522.88 + 43.5538\tcv_agg's valid rmse: 11304.1 + 1362.17\n",
        "\n",
        "parameters = {\n",
        "    #default\n",
        "    \"objective\": \"regression\",\n",
        "    \"learning_rate\": 0.2,\n",
        "    \"num_threads\": 10,\n",
        "    \"seed\": 26,\n",
        "\n",
        "    #regularization\n",
        "    \"colsample_bytree\": 0.9,\n",
        "    \"subsample\": 0.9,\n",
        "    \"subsample_freq\": 1,\n",
        "    \"min_data_in_leaf\": 1,\n",
        "\n",
        "    \"verbose\":-1\n",
        "}\n",
        "\n",
        "result = lgb.cv(parameters, lgb_train, n_rounds, folds=skf, metrics='rmse', eval_train_metric=True, callbacks=[lgb.early_stopping(10), lgb.log_evaluation(period=10)])"
      ],
      "metadata": {
        "id": "XPHdlKa8HiGk"
      },
      "execution_count": null,
      "outputs": []
    },
    {
      "cell_type": "code",
      "source": [
        "# comparing to:\n",
        "# [509]\tcv_agg's train rmse: 4668.7 + 33.683\tcv_agg's valid rmse: 11048.4 + 1486.55\n",
        "\n",
        "parameters = {\n",
        "    #default\n",
        "    \"objective\": \"regression\",\n",
        "    \"learning_rate\": 0.05,\n",
        "    \"num_threads\": 10,\n",
        "    \"seed\": 26,\n",
        "\n",
        "    #regularization\n",
        "    \"colsample_bytree\": 0.9,\n",
        "    \"subsample\": 0.9,\n",
        "    \"subsample_freq\": 1,\n",
        "    \"min_data_in_leaf\": 1,\n",
        "\n",
        "    \"verbose\":-1\n",
        "}\n",
        "\n",
        "result = lgb.cv(parameters, lgb_train, n_rounds, folds=skf, metrics='rmse', eval_train_metric=True, callbacks=[lgb.early_stopping(10), lgb.log_evaluation(period=10)])"
      ],
      "metadata": {
        "id": "jca5LIquHuvD"
      },
      "execution_count": null,
      "outputs": []
    },
    {
      "cell_type": "code",
      "source": [
        "# comparing to:\n",
        "# [1178]\tcv_agg's train rmse: 4428.07 + 42.1315\tcv_agg's valid rmse: 10832.1 + 1635.94\n",
        "# no improvement:\n",
        "# [704]\tcv_agg's train rmse: 4617.56 + 40.6597\tcv_agg's valid rmse: 10947.4 + 1572.78\n",
        "\n",
        "parameters = {\n",
        "    #default\n",
        "    \"objective\": \"regression\",\n",
        "    \"learning_rate\": 0.075,\n",
        "    \"num_threads\": 10,\n",
        "    \"seed\": 26,\n",
        "\n",
        "    #regularization\n",
        "    \"colsample_bytree\": 0.9,\n",
        "    \"subsample\": 0.9,\n",
        "    \"subsample_freq\": 1,\n",
        "    \"min_data_in_leaf\": 1,\n",
        "\n",
        "    \"verbose\":-1\n",
        "}\n",
        "\n",
        "result = lgb.cv(parameters, lgb_train, n_rounds, folds=skf, metrics='rmse', eval_train_metric=True, callbacks=[lgb.early_stopping(10), lgb.log_evaluation(period=10)])"
      ],
      "metadata": {
        "id": "UUDNj_VaIMUn"
      },
      "execution_count": null,
      "outputs": []
    },
    {
      "cell_type": "code",
      "source": [
        "# comparing to:\n",
        "# [1178]\tcv_agg's train rmse: 4428.07 + 42.1315\tcv_agg's valid rmse: 10832.1 + 1635.94\n",
        "# the same result\n",
        "# the best parameters as they allow for stronger regularisation with the same result\n",
        "\n",
        "parameters = {\n",
        "    #default\n",
        "    \"objective\": \"regression\",\n",
        "    \"learning_rate\": 0.05,\n",
        "    \"num_threads\": 10,\n",
        "    \"seed\": 26,\n",
        "\n",
        "    #regularization\n",
        "    \"colsample_bytree\": 0.8,\n",
        "    \"subsample\": 0.9,\n",
        "    \"subsample_freq\": 1,\n",
        "    \"min_data_in_leaf\": 1,\n",
        "\n",
        "    \"verbose\":-1\n",
        "}\n",
        "\n",
        "result = lgb.cv(parameters, lgb_train, n_rounds, folds=skf, metrics='rmse', eval_train_metric=True, callbacks=[lgb.early_stopping(10), lgb.log_evaluation(period=10)])"
      ],
      "metadata": {
        "id": "NYWKmitEIm_e"
      },
      "execution_count": null,
      "outputs": []
    },
    {
      "cell_type": "code",
      "source": [
        "# comparing to:\n",
        "# [1178]\tcv_agg's train rmse: 4428.07 + 42.1315\tcv_agg's valid rmse: 10832.1 + 1635.94\n",
        "# no improvement:\n",
        "# [853]\tcv_agg's train rmse: 4958.04 + 45.2417\tcv_agg's valid rmse: 10849.4 + 1496.4\n",
        "\n",
        "parameters = {\n",
        "    #default\n",
        "    \"objective\": \"regression\",\n",
        "    \"learning_rate\": 0.05,\n",
        "    \"num_threads\": 10,\n",
        "    \"seed\": 26,\n",
        "\n",
        "    #regularization\n",
        "    \"colsample_bytree\": 0.8,\n",
        "    \"subsample\": 0.8,\n",
        "    \"subsample_freq\": 1,\n",
        "    \"min_data_in_leaf\": 1,\n",
        "\n",
        "    \"verbose\":-1\n",
        "}\n",
        "\n",
        "result = lgb.cv(parameters, lgb_train, n_rounds, folds=skf, metrics='rmse', eval_train_metric=True, callbacks=[lgb.early_stopping(10), lgb.log_evaluation(period=10)])"
      ],
      "metadata": {
        "id": "Qw_iB1CSJP-P"
      },
      "execution_count": null,
      "outputs": []
    },
    {
      "cell_type": "markdown",
      "source": [
        "### testing features"
      ],
      "metadata": {
        "id": "UnLS1zcIDp65"
      }
    },
    {
      "cell_type": "code",
      "source": [
        "parameters = {\n",
        "    #default\n",
        "    \"objective\": \"regression\",\n",
        "    \"learning_rate\": 0.05,\n",
        "    \"num_threads\": 10,\n",
        "    \"seed\": 26,\n",
        "\n",
        "    #regularization\n",
        "    \"colsample_bytree\": 0.8,\n",
        "    \"subsample\": 0.9,\n",
        "    \"subsample_freq\": 1,\n",
        "    \"min_data_in_leaf\": 1,\n",
        "\n",
        "    \"verbose\":-1\n",
        "}"
      ],
      "metadata": {
        "id": "FenizvZLELVb"
      },
      "execution_count": null,
      "outputs": []
    },
    {
      "cell_type": "code",
      "source": [
        "# adding other features one by one and testing them\n",
        "[x for x in features if x not in basic_features]"
      ],
      "metadata": {
        "colab": {
          "base_uri": "https://localhost:8080/"
        },
        "id": "gerBYlKC9IdQ",
        "outputId": "c4e5f887-e445-4ded-9e05-fbc635430694"
      },
      "execution_count": null,
      "outputs": [
        {
          "output_type": "execute_result",
          "data": {
            "text/plain": [
              "['gearbox',\n",
              " 'description',\n",
              " 'number',\n",
              " 'vin',\n",
              " 'vin_checked',\n",
              " 'accident',\n",
              " 'lease_available',\n",
              " 'seller_is_auto_ria',\n",
              " 'loan_years',\n",
              " 'loan_rate',\n",
              " 'mean_price',\n",
              " 'engine_power',\n",
              " 'tdi',\n",
              " 'ev',\n",
              " 'kwh',\n",
              " 'awd']"
            ]
          },
          "metadata": {},
          "execution_count": 140
        }
      ]
    },
    {
      "cell_type": "code",
      "source": [
        "# comparing to:\n",
        "# [1178]\tcv_agg's train rmse: 4428.07 + 42.1315\tcv_agg's valid rmse: 10832.1 + 1635.94\n",
        "# no improvement:\n",
        "# [955]\tcv_agg's train rmse: 4615.34 + 32.6475\tcv_agg's valid rmse: 10953.2 + 1569.08\n",
        "\n",
        "add_features = basic_features + ['gearbox']\n",
        "lgb_train = lgb.Dataset(train_features[add_features], train_labels, free_raw_data=False)\n",
        "result = lgb.cv(parameters, lgb_train, n_rounds, folds=skf, metrics='rmse', eval_train_metric=True, callbacks=[lgb.early_stopping(10), lgb.log_evaluation(period=10)])"
      ],
      "metadata": {
        "id": "Q4XhBR_98-mc"
      },
      "execution_count": null,
      "outputs": []
    },
    {
      "cell_type": "code",
      "source": [
        "# comparing to:\n",
        "# [1178]\tcv_agg's train rmse: 4428.07 + 42.1315\tcv_agg's valid rmse: 10832.1 + 1635.94\n",
        "\n",
        "add_features = basic_features + ['description']\n",
        "lgb_train = lgb.Dataset(train_features[add_features], train_labels, free_raw_data=False)\n",
        "result = lgb.cv(parameters, lgb_train, n_rounds, folds=skf, metrics='rmse', eval_train_metric=True, callbacks=[lgb.early_stopping(10), lgb.log_evaluation(period=50)])"
      ],
      "metadata": {
        "id": "aM9QKdfr-UvK"
      },
      "execution_count": null,
      "outputs": []
    },
    {
      "cell_type": "code",
      "source": [
        "# comparing to:\n",
        "# [1125]\tcv_agg's train rmse: 4473.48 + 48.7744\tcv_agg's valid rmse: 10797.9 + 1536.58\n",
        "# no improvement:\n",
        "# [893]\tcv_agg's train rmse: 4933.43 + 46.6908\tcv_agg's valid rmse: 10836.7 + 1541.58\n",
        "\n",
        "basic_features = add_features[:]\n",
        "add_features = basic_features + ['number']\n",
        "lgb_train = lgb.Dataset(train_features[add_features], train_labels, free_raw_data=False)\n",
        "result = lgb.cv(parameters, lgb_train, n_rounds, folds=skf, metrics='rmse', eval_train_metric=True, callbacks=[lgb.early_stopping(10), lgb.log_evaluation(period=50)])"
      ],
      "metadata": {
        "id": "dSrbcTBO-24w"
      },
      "execution_count": null,
      "outputs": []
    },
    {
      "cell_type": "code",
      "source": [
        "# comparing to:\n",
        "# [1125]\tcv_agg's train rmse: 4473.48 + 48.7744\tcv_agg's valid rmse: 10797.9 + 1536.58\n",
        "# no improvement:\n",
        "# [892]\tcv_agg's train rmse: 4909.06 + 36.7725\tcv_agg's valid rmse: 10887.2 + 1559.33\n",
        "\n",
        "add_features = basic_features + ['vin']\n",
        "lgb_train = lgb.Dataset(train_features[add_features], train_labels, free_raw_data=False)\n",
        "result = lgb.cv(parameters, lgb_train, n_rounds, folds=skf, metrics='rmse', eval_train_metric=True, callbacks=[lgb.early_stopping(10), lgb.log_evaluation(period=50)])"
      ],
      "metadata": {
        "id": "fSe7l0zz_R9q"
      },
      "execution_count": null,
      "outputs": []
    },
    {
      "cell_type": "code",
      "source": [
        "# comparing to:\n",
        "# [1125]\tcv_agg's train rmse: 4473.48 + 48.7744\tcv_agg's valid rmse: 10797.9 + 1536.58\n",
        "# no improvement:\n",
        "# [893]\tcv_agg's train rmse: 4904.21 + 43.5635\tcv_agg's valid rmse: 10803.2 + 1541.19\n",
        "\n",
        "add_features = basic_features + ['vin_checked']\n",
        "lgb_train = lgb.Dataset(train_features[add_features], train_labels, free_raw_data=False)\n",
        "result = lgb.cv(parameters, lgb_train, n_rounds, folds=skf, metrics='rmse', eval_train_metric=True, callbacks=[lgb.early_stopping(10), lgb.log_evaluation(period=50)])"
      ],
      "metadata": {
        "id": "pEDVaOAx_shF"
      },
      "execution_count": null,
      "outputs": []
    },
    {
      "cell_type": "code",
      "source": [
        "# comparing to:\n",
        "# [1125]\tcv_agg's train rmse: 4473.48 + 48.7744\tcv_agg's valid rmse: 10797.9 + 1536.58\n",
        "\n",
        "add_features = basic_features + ['accident']\n",
        "lgb_train = lgb.Dataset(train_features[add_features], train_labels, free_raw_data=False)\n",
        "result = lgb.cv(parameters, lgb_train, n_rounds, folds=skf, metrics='rmse', eval_train_metric=True, callbacks=[lgb.early_stopping(10), lgb.log_evaluation(period=50)])"
      ],
      "metadata": {
        "id": "JnCtapuQADbO"
      },
      "execution_count": null,
      "outputs": []
    },
    {
      "cell_type": "code",
      "source": [
        "# comparing to:\n",
        "# [1179]\tcv_agg's train rmse: 4440.04 + 39.549\tcv_agg's valid rmse: 10759.8 + 1668.34\n",
        "# no improvement:\n",
        "# [1052]\tcv_agg's train rmse: 4610.72 + 40.4651\tcv_agg's valid rmse: 10843.2 + 1454.77\n",
        "\n",
        "basic_features = add_features[:]\n",
        "add_features = basic_features + ['lease_available']\n",
        "lgb_train = lgb.Dataset(train_features[add_features], train_labels, free_raw_data=False)\n",
        "result = lgb.cv(parameters, lgb_train, n_rounds, folds=skf, metrics='rmse', eval_train_metric=True, callbacks=[lgb.early_stopping(10), lgb.log_evaluation(period=50)])"
      ],
      "metadata": {
        "id": "BXOJKfxwMwfs"
      },
      "execution_count": null,
      "outputs": []
    },
    {
      "cell_type": "code",
      "source": [
        "# comparing to:\n",
        "# [1179]\tcv_agg's train rmse: 4440.04 + 39.549\tcv_agg's valid rmse: 10759.8 + 1668.34\n",
        "# no improvement:\n",
        "# [1036]\tcv_agg's train rmse: 4644.43 + 30.4313\tcv_agg's valid rmse: 10768.9 + 1454.34\n",
        "\n",
        "add_features = basic_features + ['seller_is_auto_ria']\n",
        "lgb_train = lgb.Dataset(train_features[add_features], train_labels, free_raw_data=False)\n",
        "result = lgb.cv(parameters, lgb_train, n_rounds, folds=skf, metrics='rmse', eval_train_metric=True, callbacks=[lgb.early_stopping(10), lgb.log_evaluation(period=50)])"
      ],
      "metadata": {
        "id": "YNaHkLr0M1XN"
      },
      "execution_count": null,
      "outputs": []
    },
    {
      "cell_type": "code",
      "source": [
        "# comparing to:\n",
        "# [1179]\tcv_agg's train rmse: 4440.04 + 39.549\tcv_agg's valid rmse: 10759.8 + 1668.34\n",
        "# no improvement:\n",
        "# [890]\tcv_agg's train rmse: 4844.62 + 23.2649\tcv_agg's valid rmse: 10930 + 1531.46\n",
        "\n",
        "add_features = basic_features + ['loan_years']\n",
        "lgb_train = lgb.Dataset(train_features[add_features], train_labels, free_raw_data=False)\n",
        "result = lgb.cv(parameters, lgb_train, n_rounds, folds=skf, metrics='rmse', eval_train_metric=True, callbacks=[lgb.early_stopping(10), lgb.log_evaluation(period=50)])"
      ],
      "metadata": {
        "id": "IbMfPSOEOLgy"
      },
      "execution_count": null,
      "outputs": []
    },
    {
      "cell_type": "code",
      "source": [
        "# comparing to:\n",
        "# [1179]\tcv_agg's train rmse: 4440.04 + 39.549\tcv_agg's valid rmse: 10759.8 + 1668.34\n",
        "# no improvement:\n",
        "# [968]\tcv_agg's train rmse: 4716.37 + 36.0784\tcv_agg's valid rmse: 10892.1 + 1547.78\n",
        "\n",
        "add_features = basic_features + ['loan_rate']\n",
        "lgb_train = lgb.Dataset(train_features[add_features], train_labels, free_raw_data=False)\n",
        "result = lgb.cv(parameters, lgb_train, n_rounds, folds=skf, metrics='rmse', eval_train_metric=True, callbacks=[lgb.early_stopping(10), lgb.log_evaluation(period=50)])"
      ],
      "metadata": {
        "id": "SYqzGNVIPAa8"
      },
      "execution_count": null,
      "outputs": []
    },
    {
      "cell_type": "code",
      "source": [
        "# comparing to:\n",
        "# [1179]\tcv_agg's train rmse: 4440.04 + 39.549\tcv_agg's valid rmse: 10759.8 + 1668.34\n",
        "\n",
        "add_features = basic_features + ['mean_price']\n",
        "lgb_train = lgb.Dataset(train_features[add_features], train_labels, free_raw_data=False)\n",
        "result = lgb.cv(parameters, lgb_train, n_rounds, folds=skf, metrics='rmse', eval_train_metric=True, callbacks=[lgb.early_stopping(10), lgb.log_evaluation(period=50)])"
      ],
      "metadata": {
        "id": "l-JLWyBKPnGs"
      },
      "execution_count": null,
      "outputs": []
    },
    {
      "cell_type": "code",
      "source": [
        "# comparing to:\n",
        "# [847]\tcv_agg's train rmse: 4363.29 + 22.8011\tcv_agg's valid rmse: 7309.19 + 372.785\n",
        "\n",
        "basic_features = add_features[:]\n",
        "add_features = basic_features + ['engine_power']\n",
        "lgb_train = lgb.Dataset(train_features[add_features], train_labels, free_raw_data=False)\n",
        "result = lgb.cv(parameters, lgb_train, n_rounds, folds=skf, metrics='rmse', eval_train_metric=True, callbacks=[lgb.early_stopping(10), lgb.log_evaluation(period=50)])"
      ],
      "metadata": {
        "id": "Gmg_qoFgQVoa"
      },
      "execution_count": null,
      "outputs": []
    },
    {
      "cell_type": "code",
      "source": [
        "# comparing to:\n",
        "# [661]\tcv_agg's train rmse: 4029.77 + 44.9731\tcv_agg's valid rmse: 6910.81 + 449.764\n",
        "# no improvement:\n",
        "# [661]\tcv_agg's train rmse: 4014.69 + 45.5244\tcv_agg's valid rmse: 7011.03 + 527.447\n",
        "\n",
        "basic_features = add_features[:]\n",
        "add_features = basic_features + ['tdi']\n",
        "lgb_train = lgb.Dataset(train_features[add_features], train_labels, free_raw_data=False)\n",
        "result = lgb.cv(parameters, lgb_train, n_rounds, folds=skf, metrics='rmse', eval_train_metric=True, callbacks=[lgb.early_stopping(10), lgb.log_evaluation(period=50)])"
      ],
      "metadata": {
        "id": "d-ohBmxyRHbd"
      },
      "execution_count": null,
      "outputs": []
    },
    {
      "cell_type": "code",
      "source": [
        "# comparing to:\n",
        "# [661]\tcv_agg's train rmse: 4029.77 + 44.9731\tcv_agg's valid rmse: 6910.81 + 449.764\n",
        "# no improvement:\n",
        "# [524]\tcv_agg's train rmse: 4297.46 + 28.0151\tcv_agg's valid rmse: 7092.95 + 513.634\n",
        "\n",
        "add_features = basic_features + ['ev']\n",
        "lgb_train = lgb.Dataset(train_features[add_features], train_labels, free_raw_data=False)\n",
        "result = lgb.cv(parameters, lgb_train, n_rounds, folds=skf, metrics='rmse', eval_train_metric=True, callbacks=[lgb.early_stopping(10), lgb.log_evaluation(period=50)])"
      ],
      "metadata": {
        "id": "SavNt7TARjVi"
      },
      "execution_count": null,
      "outputs": []
    },
    {
      "cell_type": "code",
      "source": [
        "# comparing to:\n",
        "# [661]\tcv_agg's train rmse: 4029.77 + 44.9731\tcv_agg's valid rmse: 6910.81 + 449.764\n",
        "# no improvement:\n",
        "# [605]\tcv_agg's train rmse: 4108.67 + 44.5412\tcv_agg's valid rmse: 7048.94 + 506.985\n",
        "\n",
        "add_features = basic_features + ['kwh']\n",
        "lgb_train = lgb.Dataset(train_features[add_features], train_labels, free_raw_data=False)\n",
        "result = lgb.cv(parameters, lgb_train, n_rounds, folds=skf, metrics='rmse', eval_train_metric=True, callbacks=[lgb.early_stopping(10), lgb.log_evaluation(period=50)])"
      ],
      "metadata": {
        "id": "-zCT4iVdR9gK"
      },
      "execution_count": null,
      "outputs": []
    },
    {
      "cell_type": "code",
      "source": [
        "# comparing to:\n",
        "# [661]\tcv_agg's train rmse: 4029.77 + 44.9731\tcv_agg's valid rmse: 6910.81 + 449.764\n",
        "# no improvement:\n",
        "# [790]\tcv_agg's train rmse: 3788.51 + 54.1642\tcv_agg's valid rmse: 6941.01 + 521.993\n",
        "\n",
        "add_features = basic_features + ['awd']\n",
        "lgb_train = lgb.Dataset(train_features[add_features], train_labels, free_raw_data=False)\n",
        "result = lgb.cv(parameters, lgb_train, n_rounds, folds=skf, metrics='rmse', eval_train_metric=True, callbacks=[lgb.early_stopping(10), lgb.log_evaluation(period=50)])"
      ],
      "metadata": {
        "id": "bFbnMOkQSXSF"
      },
      "execution_count": null,
      "outputs": []
    },
    {
      "cell_type": "markdown",
      "source": [
        "### final model"
      ],
      "metadata": {
        "id": "hUzqMUW9UFu1"
      }
    },
    {
      "cell_type": "code",
      "source": [
        "final_features = ['mark', 'model', 'year', 'equipment', 'mileage', 'place',\n",
        "                  'description', 'accident', 'mean_price', 'engine_power']"
      ],
      "metadata": {
        "id": "JGzNPSdFYThD"
      },
      "execution_count": null,
      "outputs": []
    },
    {
      "cell_type": "code",
      "source": [
        "lgb_train = lgb.Dataset(train_features[final_features], train_labels, free_raw_data=False)\n",
        "result = lgb.cv(parameters, lgb_train, n_rounds, folds=skf, metrics='rmse', eval_train_metric=True, callbacks=[lgb.early_stopping(10), lgb.log_evaluation(period=50)])"
      ],
      "metadata": {
        "colab": {
          "base_uri": "https://localhost:8080/"
        },
        "id": "0zM2JrgRS6WE",
        "outputId": "d6666d80-4461-4e2b-85c3-c3e6d9416ece"
      },
      "execution_count": null,
      "outputs": [
        {
          "output_type": "stream",
          "name": "stderr",
          "text": [
            "/usr/local/lib/python3.10/dist-packages/sklearn/model_selection/_split.py:700: UserWarning: The least populated class in y has only 1 members, which is less than n_splits=5.\n",
            "  warnings.warn(\n"
          ]
        },
        {
          "output_type": "stream",
          "name": "stdout",
          "text": [
            "Training until validation scores don't improve for 10 rounds\n",
            "[50]\tcv_agg's train rmse: 7907.31 + 38.1611\tcv_agg's valid rmse: 9064.25 + 482.224\n",
            "[100]\tcv_agg's train rmse: 6372.83 + 31.6641\tcv_agg's valid rmse: 7828.04 + 455.478\n",
            "[150]\tcv_agg's train rmse: 5801.66 + 31.4526\tcv_agg's valid rmse: 7496.5 + 442.203\n",
            "[200]\tcv_agg's train rmse: 5445.96 + 30.2927\tcv_agg's valid rmse: 7346.26 + 444.411\n",
            "[250]\tcv_agg's train rmse: 5177.13 + 21.3026\tcv_agg's valid rmse: 7245.13 + 448.274\n",
            "[300]\tcv_agg's train rmse: 4959.52 + 23.1718\tcv_agg's valid rmse: 7168.96 + 460.387\n",
            "[350]\tcv_agg's train rmse: 4779.4 + 31.6643\tcv_agg's valid rmse: 7112.6 + 465.485\n",
            "[400]\tcv_agg's train rmse: 4624.67 + 29.1761\tcv_agg's valid rmse: 7069.66 + 461.119\n",
            "[450]\tcv_agg's train rmse: 4494.78 + 32.9712\tcv_agg's valid rmse: 7041.6 + 465.789\n",
            "[500]\tcv_agg's train rmse: 4366.21 + 40.1258\tcv_agg's valid rmse: 6999.96 + 462.22\n",
            "[550]\tcv_agg's train rmse: 4250.23 + 37.6963\tcv_agg's valid rmse: 6977.85 + 450.544\n",
            "[600]\tcv_agg's train rmse: 4145.07 + 42.1779\tcv_agg's valid rmse: 6947.78 + 452.307\n",
            "[650]\tcv_agg's train rmse: 4049.72 + 43.7523\tcv_agg's valid rmse: 6922.14 + 454.099\n",
            "Early stopping, best iteration is:\n",
            "[661]\tcv_agg's train rmse: 4029.77 + 44.9731\tcv_agg's valid rmse: 6910.81 + 449.764\n"
          ]
        }
      ]
    },
    {
      "cell_type": "code",
      "source": [
        "lgb_model = lgb.train(parameters, lgb_train, num_boost_round=len(result['train rmse-mean']))"
      ],
      "metadata": {
        "id": "a8ZvfvRXTXq8"
      },
      "execution_count": null,
      "outputs": []
    },
    {
      "cell_type": "code",
      "source": [
        "lgb_model.save_model('model.txt', num_iteration=lgb_model.best_iteration)"
      ],
      "metadata": {
        "colab": {
          "base_uri": "https://localhost:8080/"
        },
        "id": "5Q4JiszmUWA_",
        "outputId": "2318a570-215e-43f8-bfda-0311cd6a7cf2"
      },
      "execution_count": null,
      "outputs": [
        {
          "output_type": "execute_result",
          "data": {
            "text/plain": [
              "<lightgbm.basic.Booster at 0x7d7db66f7df0>"
            ]
          },
          "metadata": {},
          "execution_count": 163
        }
      ]
    },
    {
      "cell_type": "markdown",
      "source": [
        "# testing (the result)"
      ],
      "metadata": {
        "id": "RfOHL2b8Alc6"
      }
    },
    {
      "cell_type": "code",
      "source": [
        "import lightgbm as lgb"
      ],
      "metadata": {
        "id": "DHYmq6d9XcXg"
      },
      "execution_count": null,
      "outputs": []
    },
    {
      "cell_type": "code",
      "source": [
        "lgb_model = lgb.Booster(model_file='/content/model.txt')"
      ],
      "metadata": {
        "id": "BPKJJ4nHUmPW"
      },
      "execution_count": null,
      "outputs": []
    },
    {
      "cell_type": "code",
      "source": [
        "lgb_prediction = lgb_model.predict(test_features[final_features])"
      ],
      "metadata": {
        "id": "CvU4rqINUsb0"
      },
      "execution_count": null,
      "outputs": []
    },
    {
      "cell_type": "code",
      "source": [
        "lgb_prediction"
      ],
      "metadata": {
        "colab": {
          "base_uri": "https://localhost:8080/"
        },
        "id": "gbslzL_CVTjY",
        "outputId": "b1756bf4-6059-4b2b-ddbd-caf27d2739d0"
      },
      "execution_count": null,
      "outputs": [
        {
          "output_type": "execute_result",
          "data": {
            "text/plain": [
              "array([15987.81789831,   168.82007802,  9606.13311232, ...,\n",
              "       10239.61896605, 23830.85579312, 13955.77796345])"
            ]
          },
          "metadata": {},
          "execution_count": 167
        }
      ]
    },
    {
      "cell_type": "code",
      "source": [
        "mean_squared_error(test_labels, lgb_prediction, squared=False)"
      ],
      "metadata": {
        "colab": {
          "base_uri": "https://localhost:8080/"
        },
        "id": "hx48pqW2UsTi",
        "outputId": "7edc3c91-2397-40af-b4f6-1a67c8ac3e18"
      },
      "execution_count": null,
      "outputs": [
        {
          "output_type": "execute_result",
          "data": {
            "text/plain": [
              "7874.002275147693"
            ]
          },
          "metadata": {},
          "execution_count": 168
        }
      ]
    }
  ]
}